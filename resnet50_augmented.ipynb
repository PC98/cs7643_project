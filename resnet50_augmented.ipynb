{
  "nbformat": 4,
  "nbformat_minor": 0,
  "metadata": {
    "colab": {
      "name": "resnet50_augmented.ipynb",
      "provenance": [],
      "authorship_tag": "ABX9TyNIS/u1eicgy8rAQOUs1rlc",
      "include_colab_link": true
    },
    "kernelspec": {
      "name": "python3",
      "display_name": "Python 3"
    },
    "accelerator": "GPU"
  },
  "cells": [
    {
      "cell_type": "markdown",
      "metadata": {
        "id": "view-in-github",
        "colab_type": "text"
      },
      "source": [
        "<a href=\"https://colab.research.google.com/github/PC98/cs7643_project/blob/master/resnet50_augmented.ipynb\" target=\"_parent\"><img src=\"https://colab.research.google.com/assets/colab-badge.svg\" alt=\"Open In Colab\"/></a>"
      ]
    },
    {
      "cell_type": "code",
      "metadata": {
        "id": "wv9Ao7ukD5ZY",
        "colab_type": "code",
        "colab": {}
      },
      "source": [
        "# If not running on Google Colab/Drive, skip this\n",
        "# Run this block first and follow the instructions to authorize mounting\n",
        "from google.colab import drive\n",
        "drive.mount('/content/gdrive')"
      ],
      "execution_count": 0,
      "outputs": []
    },
    {
      "cell_type": "code",
      "metadata": {
        "id": "fkLuR5ZqEJeV",
        "colab_type": "code",
        "colab": {}
      },
      "source": [
        "from tensorflow.keras.layers import GlobalAveragePooling2D, Dense, Dropout  \n",
        "from tensorflow.keras.models import Sequential\n",
        "from tensorflow.keras.preprocessing.image import ImageDataGenerator\n",
        "from tensorflow.keras.applications import ResNet50\n",
        "from tensorflow.keras.callbacks import ModelCheckpoint\n",
        "from tensorflow.math import confusion_matrix\n",
        "from math import ceil\n",
        "import numpy as np\n",
        "import pandas as pd\n",
        "import seaborn as sns\n",
        "import os\n",
        "import random\n",
        "import PIL\n",
        "import matplotlib.pyplot as plt\n",
        "import pickle"
      ],
      "execution_count": 0,
      "outputs": []
    },
    {
      "cell_type": "code",
      "metadata": {
        "id": "ZVXvLmMiELct",
        "colab_type": "code",
        "colab": {}
      },
      "source": [
        "# If not running on Google Colab/Drive, modify this to root, \".\"\n",
        "GDRIVE = os.path.join('/', 'content', 'gdrive', 'My Drive')"
      ],
      "execution_count": 0,
      "outputs": []
    },
    {
      "cell_type": "code",
      "metadata": {
        "id": "Uxyxs9d6EOAb",
        "colab_type": "code",
        "colab": {}
      },
      "source": [
        "RANDOM_SEED = 0\n",
        "\n",
        "OUTPUT_DATA_DIR = os.path.join(GDRIVE, 'data') # we will store train/ valid/ test/ directories here\n",
        "TRAIN_DATA_DIR = os.path.join(OUTPUT_DATA_DIR, 'train')\n",
        "VAL_DATA_DIR = os.path.join(OUTPUT_DATA_DIR, 'valid')\n",
        "TEST_DATA_DIR = os.path.join(OUTPUT_DATA_DIR, 'test')\n",
        "\n",
        "WASTE_TYPES = ['cardboard', 'glass', 'metal', 'paper', 'plastic', 'trash']\n",
        "\n",
        "IMG_HEIGHT = IMG_WIDTH = 256\n",
        "EPOCHS = 80\n",
        "BATCH_SIZE = 32\n",
        "\n",
        "random.seed(RANDOM_SEED)"
      ],
      "execution_count": 0,
      "outputs": []
    },
    {
      "cell_type": "code",
      "metadata": {
        "id": "cKZCPff6EQEd",
        "colab_type": "code",
        "colab": {}
      },
      "source": [
        "# So that we can visualize some of the augmented images\n",
        "TRAIN_AUG_DATA_DIR = os.path.join(OUTPUT_DATA_DIR, 'train_aug')     \n",
        "\n",
        "if not os.path.exists(TRAIN_AUG_DATA_DIR):\n",
        "    os.makedirs(TRAIN_AUG_DATA_DIR)"
      ],
      "execution_count": 0,
      "outputs": []
    },
    {
      "cell_type": "code",
      "metadata": {
        "id": "dTa03YMTEZXm",
        "colab_type": "code",
        "colab": {}
      },
      "source": [
        "MODEL_NAME = 'resnet50_augmented'\n",
        "\n",
        "def create_model():\n",
        "    base_model = ResNet50(input_shape=(IMG_HEIGHT, IMG_WIDTH, 3), include_top=False, weights=None)\n",
        "    \n",
        "    #base_model.trainable = False\n",
        "    \n",
        "    model = Sequential([\n",
        "        base_model,\n",
        "        GlobalAveragePooling2D(),\n",
        "        Dropout(0.4),\n",
        "        Dense(len(WASTE_TYPES))\n",
        "    ])\n",
        "    \n",
        "    model.compile(loss='cosine_similarity', optimizer='adam', metrics=['accuracy'])\n",
        "    \n",
        "    return model"
      ],
      "execution_count": 0,
      "outputs": []
    },
    {
      "cell_type": "code",
      "metadata": {
        "id": "14XYZp9UEgI1",
        "colab_type": "code",
        "colab": {
          "base_uri": "https://localhost:8080/",
          "height": 289
        },
        "outputId": "5e082b27-402f-4625-b0a1-36476fd4f92d"
      },
      "source": [
        "model = create_model()\n",
        "model.summary()"
      ],
      "execution_count": 18,
      "outputs": [
        {
          "output_type": "stream",
          "text": [
            "Model: \"sequential_1\"\n",
            "_________________________________________________________________\n",
            "Layer (type)                 Output Shape              Param #   \n",
            "=================================================================\n",
            "resnet50 (Model)             (None, 8, 8, 2048)        23587712  \n",
            "_________________________________________________________________\n",
            "global_average_pooling2d_1 ( (None, 2048)              0         \n",
            "_________________________________________________________________\n",
            "dropout_1 (Dropout)          (None, 2048)              0         \n",
            "_________________________________________________________________\n",
            "dense_1 (Dense)              (None, 6)                 12294     \n",
            "=================================================================\n",
            "Total params: 23,600,006\n",
            "Trainable params: 23,546,886\n",
            "Non-trainable params: 53,120\n",
            "_________________________________________________________________\n"
          ],
          "name": "stdout"
        }
      ]
    },
    {
      "cell_type": "code",
      "metadata": {
        "id": "ECm62e0LEiW_",
        "colab_type": "code",
        "colab": {
          "base_uri": "https://localhost:8080/",
          "height": 68
        },
        "outputId": "db7d9c83-321a-4254-8898-ffa018832448"
      },
      "source": [
        "train_datagen = ImageDataGenerator(rescale=1./255,\n",
        "                                   rotation_range=90,\n",
        "                                   width_shift_range=0.2,\n",
        "                                   height_shift_range=0.2,\n",
        "                                   shear_range=0.2,\n",
        "                                   zoom_range = 0.2,\n",
        "                                   horizontal_flip=True,\n",
        "                                   vertical_flip=True)\n",
        "val_datagen = ImageDataGenerator(rescale=1./255)\n",
        "test_datagen = ImageDataGenerator(rescale=1./255)\n",
        "\n",
        "# using default params: target_size=(256, 256)\n",
        "train_generator = train_datagen.flow_from_directory(TRAIN_DATA_DIR, batch_size=BATCH_SIZE, save_to_dir=TRAIN_AUG_DATA_DIR)\n",
        "val_generator = val_datagen.flow_from_directory(VAL_DATA_DIR, batch_size=BATCH_SIZE)\n",
        "# don't shuffle test set, it will be easier to predict then\n",
        "test_generator = test_datagen.flow_from_directory(TEST_DATA_DIR, batch_size=BATCH_SIZE, shuffle=False)\n",
        "\n",
        "# This function will plot images in the form of a grid with 1 row and 5 columns where images are placed in each column.\n",
        "def plotImages(images_arr):\n",
        "    fig, axes = plt.subplots(1, 5, figsize=(20, 20))\n",
        "    axes = axes.flatten()\n",
        "    for img, ax in zip( images_arr, axes):\n",
        "        ax.imshow(img)\n",
        "        ax.axis('off')\n",
        "    plt.tight_layout()\n",
        "    plt.show()\n",
        "\n",
        "#sample_training_images, _ = next(train_generator)\n",
        "#plotImages(sample_training_images[:5])"
      ],
      "execution_count": 19,
      "outputs": [
        {
          "output_type": "stream",
          "text": [
            "Found 1514 images belonging to 6 classes.\n",
            "Found 505 images belonging to 6 classes.\n",
            "Found 508 images belonging to 6 classes.\n"
          ],
          "name": "stdout"
        }
      ]
    },
    {
      "cell_type": "code",
      "metadata": {
        "id": "L4uzptoMEoqG",
        "colab_type": "code",
        "colab": {
          "base_uri": "https://localhost:8080/",
          "height": 34
        },
        "outputId": "ec22e9d5-a8c0-49e4-967c-ed755cc1a0f2"
      },
      "source": [
        "# Get these values from the above cell, or from prepare_train_test_data.ipynb\n",
        "total_train = 1514\n",
        "total_val = 505\n",
        "total_test = 508\n",
        "print(total_train, total_val, total_test)"
      ],
      "execution_count": 20,
      "outputs": [
        {
          "output_type": "stream",
          "text": [
            "1514 505 508\n"
          ],
          "name": "stdout"
        }
      ]
    },
    {
      "cell_type": "code",
      "metadata": {
        "id": "WaJtqtXpEs73",
        "colab_type": "code",
        "colab": {
          "base_uri": "https://localhost:8080/",
          "height": 1000
        },
        "outputId": "a4a92735-70c6-435b-a334-2f1ba288dd12"
      },
      "source": [
        "history = model.fit(\n",
        "    train_generator,\n",
        "    steps_per_epoch=ceil(total_train / BATCH_SIZE),\n",
        "    epochs=EPOCHS,\n",
        "    validation_data=val_generator,\n",
        "    validation_steps=ceil(total_val / BATCH_SIZE),\n",
        "    callbacks=[ModelCheckpoint(os.path.join(GDRIVE, f'{MODEL_NAME}.h5'), save_best_only=True, save_weights_only=True, verbose=1)])\n",
        "\n",
        "with open(os.path.join(GDRIVE, f'{MODEL_NAME}_history.pickle'), 'wb') as f:\n",
        "     pickle.dump(history.history, f)"
      ],
      "execution_count": 21,
      "outputs": [
        {
          "output_type": "stream",
          "text": [
            "Epoch 1/80\n",
            "48/48 [==============================] - ETA: 0s - loss: -0.5107 - accuracy: 0.3923 \n",
            "Epoch 00001: val_loss improved from inf to -0.38027, saving model to /content/gdrive/My Drive/resnet50_augmented.h5\n",
            "48/48 [==============================] - 975s 20s/step - loss: -0.5107 - accuracy: 0.3923 - val_loss: -0.3803 - val_accuracy: 0.1980\n",
            "Epoch 2/80\n",
            "48/48 [==============================] - ETA: 0s - loss: -0.5727 - accuracy: 0.4881\n",
            "Epoch 00002: val_loss did not improve from -0.38027\n",
            "48/48 [==============================] - 83s 2s/step - loss: -0.5727 - accuracy: 0.4881 - val_loss: -0.3047 - val_accuracy: 0.1921\n",
            "Epoch 3/80\n",
            "48/48 [==============================] - ETA: 0s - loss: -0.5928 - accuracy: 0.5152\n",
            "Epoch 00003: val_loss did not improve from -0.38027\n",
            "48/48 [==============================] - 82s 2s/step - loss: -0.5928 - accuracy: 0.5152 - val_loss: -0.3691 - val_accuracy: 0.2396\n",
            "Epoch 4/80\n",
            "48/48 [==============================] - ETA: 0s - loss: -0.6059 - accuracy: 0.5244\n",
            "Epoch 00004: val_loss did not improve from -0.38027\n",
            "48/48 [==============================] - 83s 2s/step - loss: -0.6059 - accuracy: 0.5244 - val_loss: -0.3274 - val_accuracy: 0.2218\n",
            "Epoch 5/80\n",
            "48/48 [==============================] - ETA: 0s - loss: -0.5934 - accuracy: 0.5053\n",
            "Epoch 00005: val_loss did not improve from -0.38027\n",
            "48/48 [==============================] - 82s 2s/step - loss: -0.5934 - accuracy: 0.5053 - val_loss: -0.3571 - val_accuracy: 0.2851\n",
            "Epoch 6/80\n",
            "48/48 [==============================] - ETA: 0s - loss: -0.5922 - accuracy: 0.5152\n",
            "Epoch 00006: val_loss improved from -0.38027 to -0.38923, saving model to /content/gdrive/My Drive/resnet50_augmented.h5\n",
            "48/48 [==============================] - 85s 2s/step - loss: -0.5922 - accuracy: 0.5152 - val_loss: -0.3892 - val_accuracy: 0.3208\n",
            "Epoch 7/80\n",
            "48/48 [==============================] - ETA: 0s - loss: -0.6146 - accuracy: 0.5350\n",
            "Epoch 00007: val_loss did not improve from -0.38923\n",
            "48/48 [==============================] - 84s 2s/step - loss: -0.6146 - accuracy: 0.5350 - val_loss: -0.2756 - val_accuracy: 0.2000\n",
            "Epoch 8/80\n",
            "48/48 [==============================] - ETA: 0s - loss: -0.6160 - accuracy: 0.5429\n",
            "Epoch 00008: val_loss improved from -0.38923 to -0.41540, saving model to /content/gdrive/My Drive/resnet50_augmented.h5\n",
            "48/48 [==============================] - 84s 2s/step - loss: -0.6160 - accuracy: 0.5429 - val_loss: -0.4154 - val_accuracy: 0.3465\n",
            "Epoch 9/80\n",
            "48/48 [==============================] - ETA: 0s - loss: -0.6342 - accuracy: 0.5694\n",
            "Epoch 00009: val_loss did not improve from -0.41540\n",
            "48/48 [==============================] - 83s 2s/step - loss: -0.6342 - accuracy: 0.5694 - val_loss: -0.3242 - val_accuracy: 0.1822\n",
            "Epoch 10/80\n",
            "48/48 [==============================] - ETA: 0s - loss: -0.6391 - accuracy: 0.5588\n",
            "Epoch 00010: val_loss improved from -0.41540 to -0.42772, saving model to /content/gdrive/My Drive/resnet50_augmented.h5\n",
            "48/48 [==============================] - 84s 2s/step - loss: -0.6391 - accuracy: 0.5588 - val_loss: -0.4277 - val_accuracy: 0.3030\n",
            "Epoch 11/80\n",
            "48/48 [==============================] - ETA: 0s - loss: -0.6355 - accuracy: 0.5680\n",
            "Epoch 00011: val_loss did not improve from -0.42772\n",
            "48/48 [==============================] - 84s 2s/step - loss: -0.6355 - accuracy: 0.5680 - val_loss: -0.3289 - val_accuracy: 0.2693\n",
            "Epoch 12/80\n",
            "48/48 [==============================] - ETA: 0s - loss: -0.6436 - accuracy: 0.5885\n",
            "Epoch 00012: val_loss did not improve from -0.42772\n",
            "48/48 [==============================] - 85s 2s/step - loss: -0.6436 - accuracy: 0.5885 - val_loss: -0.3296 - val_accuracy: 0.2297\n",
            "Epoch 13/80\n",
            "48/48 [==============================] - ETA: 0s - loss: -0.6651 - accuracy: 0.6169\n",
            "Epoch 00013: val_loss improved from -0.42772 to -0.43404, saving model to /content/gdrive/My Drive/resnet50_augmented.h5\n",
            "48/48 [==============================] - 85s 2s/step - loss: -0.6651 - accuracy: 0.6169 - val_loss: -0.4340 - val_accuracy: 0.4000\n",
            "Epoch 14/80\n",
            "48/48 [==============================] - ETA: 0s - loss: -0.6608 - accuracy: 0.6011\n",
            "Epoch 00014: val_loss improved from -0.43404 to -0.43571, saving model to /content/gdrive/My Drive/resnet50_augmented.h5\n",
            "48/48 [==============================] - 87s 2s/step - loss: -0.6608 - accuracy: 0.6011 - val_loss: -0.4357 - val_accuracy: 0.3802\n",
            "Epoch 15/80\n",
            "48/48 [==============================] - ETA: 0s - loss: -0.6727 - accuracy: 0.6169\n",
            "Epoch 00015: val_loss improved from -0.43571 to -0.45438, saving model to /content/gdrive/My Drive/resnet50_augmented.h5\n",
            "48/48 [==============================] - 87s 2s/step - loss: -0.6727 - accuracy: 0.6169 - val_loss: -0.4544 - val_accuracy: 0.3822\n",
            "Epoch 16/80\n",
            "48/48 [==============================] - ETA: 0s - loss: -0.6540 - accuracy: 0.5964\n",
            "Epoch 00016: val_loss improved from -0.45438 to -0.50595, saving model to /content/gdrive/My Drive/resnet50_augmented.h5\n",
            "48/48 [==============================] - 85s 2s/step - loss: -0.6540 - accuracy: 0.5964 - val_loss: -0.5059 - val_accuracy: 0.4238\n",
            "Epoch 17/80\n",
            "48/48 [==============================] - ETA: 0s - loss: -0.6717 - accuracy: 0.6308\n",
            "Epoch 00017: val_loss did not improve from -0.50595\n",
            "48/48 [==============================] - 85s 2s/step - loss: -0.6717 - accuracy: 0.6308 - val_loss: -0.3470 - val_accuracy: 0.2911\n",
            "Epoch 18/80\n",
            "48/48 [==============================] - ETA: 0s - loss: -0.6722 - accuracy: 0.6222\n",
            "Epoch 00018: val_loss did not improve from -0.50595\n",
            "48/48 [==============================] - 87s 2s/step - loss: -0.6722 - accuracy: 0.6222 - val_loss: -0.2699 - val_accuracy: 0.2436\n",
            "Epoch 19/80\n",
            "48/48 [==============================] - ETA: 0s - loss: -0.6656 - accuracy: 0.6116\n",
            "Epoch 00019: val_loss did not improve from -0.50595\n",
            "48/48 [==============================] - 87s 2s/step - loss: -0.6656 - accuracy: 0.6116 - val_loss: -0.2460 - val_accuracy: 0.2218\n",
            "Epoch 20/80\n",
            "48/48 [==============================] - ETA: 0s - loss: -0.6739 - accuracy: 0.6235\n",
            "Epoch 00020: val_loss did not improve from -0.50595\n",
            "48/48 [==============================] - 87s 2s/step - loss: -0.6739 - accuracy: 0.6235 - val_loss: -0.2490 - val_accuracy: 0.2376\n",
            "Epoch 21/80\n",
            "48/48 [==============================] - ETA: 0s - loss: -0.6498 - accuracy: 0.5958\n",
            "Epoch 00021: val_loss did not improve from -0.50595\n",
            "48/48 [==============================] - 86s 2s/step - loss: -0.6498 - accuracy: 0.5958 - val_loss: -0.2191 - val_accuracy: 0.1624\n",
            "Epoch 22/80\n",
            "48/48 [==============================] - ETA: 0s - loss: -0.6740 - accuracy: 0.6222\n",
            "Epoch 00022: val_loss did not improve from -0.50595\n",
            "48/48 [==============================] - 87s 2s/step - loss: -0.6740 - accuracy: 0.6222 - val_loss: -0.3946 - val_accuracy: 0.3584\n",
            "Epoch 23/80\n",
            "48/48 [==============================] - ETA: 0s - loss: -0.6715 - accuracy: 0.6070\n",
            "Epoch 00023: val_loss improved from -0.50595 to -0.54600, saving model to /content/gdrive/My Drive/resnet50_augmented.h5\n",
            "48/48 [==============================] - 87s 2s/step - loss: -0.6715 - accuracy: 0.6070 - val_loss: -0.5460 - val_accuracy: 0.4812\n",
            "Epoch 24/80\n",
            "48/48 [==============================] - ETA: 0s - loss: -0.6960 - accuracy: 0.6526\n",
            "Epoch 00024: val_loss did not improve from -0.54600\n",
            "48/48 [==============================] - 85s 2s/step - loss: -0.6960 - accuracy: 0.6526 - val_loss: -0.5397 - val_accuracy: 0.4772\n",
            "Epoch 25/80\n",
            "48/48 [==============================] - ETA: 0s - loss: -0.6918 - accuracy: 0.6413\n",
            "Epoch 00025: val_loss did not improve from -0.54600\n",
            "48/48 [==============================] - 86s 2s/step - loss: -0.6918 - accuracy: 0.6413 - val_loss: -0.4766 - val_accuracy: 0.3822\n",
            "Epoch 26/80\n",
            "48/48 [==============================] - ETA: 0s - loss: -0.6909 - accuracy: 0.6387\n",
            "Epoch 00026: val_loss did not improve from -0.54600\n",
            "48/48 [==============================] - 87s 2s/step - loss: -0.6909 - accuracy: 0.6387 - val_loss: -0.5195 - val_accuracy: 0.4535\n",
            "Epoch 27/80\n",
            "48/48 [==============================] - ETA: 0s - loss: -0.6819 - accuracy: 0.6209\n",
            "Epoch 00027: val_loss did not improve from -0.54600\n",
            "48/48 [==============================] - 87s 2s/step - loss: -0.6819 - accuracy: 0.6209 - val_loss: -0.3492 - val_accuracy: 0.3149\n",
            "Epoch 28/80\n",
            "48/48 [==============================] - ETA: 0s - loss: -0.7020 - accuracy: 0.6605\n",
            "Epoch 00028: val_loss did not improve from -0.54600\n",
            "48/48 [==============================] - 87s 2s/step - loss: -0.7020 - accuracy: 0.6605 - val_loss: -0.4779 - val_accuracy: 0.4178\n",
            "Epoch 29/80\n",
            "48/48 [==============================] - ETA: 0s - loss: -0.6998 - accuracy: 0.6539\n",
            "Epoch 00029: val_loss improved from -0.54600 to -0.66710, saving model to /content/gdrive/My Drive/resnet50_augmented.h5\n",
            "48/48 [==============================] - 88s 2s/step - loss: -0.6998 - accuracy: 0.6539 - val_loss: -0.6671 - val_accuracy: 0.6198\n",
            "Epoch 30/80\n",
            "48/48 [==============================] - ETA: 0s - loss: -0.7027 - accuracy: 0.6539\n",
            "Epoch 00030: val_loss did not improve from -0.66710\n",
            "48/48 [==============================] - 88s 2s/step - loss: -0.7027 - accuracy: 0.6539 - val_loss: -0.4733 - val_accuracy: 0.4634\n",
            "Epoch 31/80\n",
            "48/48 [==============================] - ETA: 0s - loss: -0.7146 - accuracy: 0.6671\n",
            "Epoch 00031: val_loss did not improve from -0.66710\n",
            "48/48 [==============================] - 88s 2s/step - loss: -0.7146 - accuracy: 0.6671 - val_loss: -0.5604 - val_accuracy: 0.4752\n",
            "Epoch 32/80\n",
            "48/48 [==============================] - ETA: 0s - loss: -0.6934 - accuracy: 0.6420\n",
            "Epoch 00032: val_loss did not improve from -0.66710\n",
            "48/48 [==============================] - 89s 2s/step - loss: -0.6934 - accuracy: 0.6420 - val_loss: -0.3809 - val_accuracy: 0.3109\n",
            "Epoch 33/80\n",
            "48/48 [==============================] - ETA: 0s - loss: -0.7131 - accuracy: 0.6572\n",
            "Epoch 00033: val_loss did not improve from -0.66710\n",
            "48/48 [==============================] - 89s 2s/step - loss: -0.7131 - accuracy: 0.6572 - val_loss: -0.5439 - val_accuracy: 0.4851\n",
            "Epoch 34/80\n",
            "48/48 [==============================] - ETA: 0s - loss: -0.7149 - accuracy: 0.6684\n",
            "Epoch 00034: val_loss did not improve from -0.66710\n",
            "48/48 [==============================] - 89s 2s/step - loss: -0.7149 - accuracy: 0.6684 - val_loss: -0.6061 - val_accuracy: 0.5564\n",
            "Epoch 35/80\n",
            "48/48 [==============================] - ETA: 0s - loss: -0.7318 - accuracy: 0.6935\n",
            "Epoch 00035: val_loss did not improve from -0.66710\n",
            "48/48 [==============================] - 89s 2s/step - loss: -0.7318 - accuracy: 0.6935 - val_loss: -0.5611 - val_accuracy: 0.4931\n",
            "Epoch 36/80\n",
            "48/48 [==============================] - ETA: 0s - loss: -0.7104 - accuracy: 0.6526\n",
            "Epoch 00036: val_loss did not improve from -0.66710\n",
            "48/48 [==============================] - 90s 2s/step - loss: -0.7104 - accuracy: 0.6526 - val_loss: -0.4949 - val_accuracy: 0.4495\n",
            "Epoch 37/80\n",
            "48/48 [==============================] - ETA: 0s - loss: -0.7207 - accuracy: 0.6691\n",
            "Epoch 00037: val_loss did not improve from -0.66710\n",
            "48/48 [==============================] - 91s 2s/step - loss: -0.7207 - accuracy: 0.6691 - val_loss: -0.6409 - val_accuracy: 0.5861\n",
            "Epoch 38/80\n",
            "48/48 [==============================] - ETA: 0s - loss: -0.7344 - accuracy: 0.6942\n",
            "Epoch 00038: val_loss did not improve from -0.66710\n",
            "48/48 [==============================] - 91s 2s/step - loss: -0.7344 - accuracy: 0.6942 - val_loss: -0.5330 - val_accuracy: 0.4554\n",
            "Epoch 39/80\n",
            "48/48 [==============================] - ETA: 0s - loss: -0.7257 - accuracy: 0.6849\n",
            "Epoch 00039: val_loss did not improve from -0.66710\n",
            "48/48 [==============================] - 92s 2s/step - loss: -0.7257 - accuracy: 0.6849 - val_loss: -0.3988 - val_accuracy: 0.3109\n",
            "Epoch 40/80\n",
            "48/48 [==============================] - ETA: 0s - loss: -0.7231 - accuracy: 0.6777\n",
            "Epoch 00040: val_loss did not improve from -0.66710\n",
            "48/48 [==============================] - 94s 2s/step - loss: -0.7231 - accuracy: 0.6777 - val_loss: -0.5786 - val_accuracy: 0.5366\n",
            "Epoch 41/80\n",
            "48/48 [==============================] - ETA: 0s - loss: -0.7265 - accuracy: 0.6889\n",
            "Epoch 00041: val_loss did not improve from -0.66710\n",
            "48/48 [==============================] - 93s 2s/step - loss: -0.7265 - accuracy: 0.6889 - val_loss: -0.3118 - val_accuracy: 0.2634\n",
            "Epoch 42/80\n",
            "48/48 [==============================] - ETA: 0s - loss: -0.7305 - accuracy: 0.6896\n",
            "Epoch 00042: val_loss did not improve from -0.66710\n",
            "48/48 [==============================] - 92s 2s/step - loss: -0.7305 - accuracy: 0.6896 - val_loss: -0.3984 - val_accuracy: 0.3545\n",
            "Epoch 43/80\n",
            "48/48 [==============================] - ETA: 0s - loss: -0.7338 - accuracy: 0.6915\n",
            "Epoch 00043: val_loss did not improve from -0.66710\n",
            "48/48 [==============================] - 92s 2s/step - loss: -0.7338 - accuracy: 0.6915 - val_loss: -0.6010 - val_accuracy: 0.5465\n",
            "Epoch 44/80\n",
            "48/48 [==============================] - ETA: 0s - loss: -0.7275 - accuracy: 0.6856\n",
            "Epoch 00044: val_loss did not improve from -0.66710\n",
            "48/48 [==============================] - 92s 2s/step - loss: -0.7275 - accuracy: 0.6856 - val_loss: -0.4350 - val_accuracy: 0.3941\n",
            "Epoch 45/80\n",
            "48/48 [==============================] - ETA: 0s - loss: -0.7262 - accuracy: 0.6889\n",
            "Epoch 00045: val_loss did not improve from -0.66710\n",
            "48/48 [==============================] - 93s 2s/step - loss: -0.7262 - accuracy: 0.6889 - val_loss: -0.4117 - val_accuracy: 0.3485\n",
            "Epoch 46/80\n",
            "48/48 [==============================] - ETA: 0s - loss: -0.7220 - accuracy: 0.6777\n",
            "Epoch 00046: val_loss did not improve from -0.66710\n",
            "48/48 [==============================] - 94s 2s/step - loss: -0.7220 - accuracy: 0.6777 - val_loss: -0.4298 - val_accuracy: 0.3782\n",
            "Epoch 47/80\n",
            "48/48 [==============================] - ETA: 0s - loss: -0.7506 - accuracy: 0.7133\n",
            "Epoch 00047: val_loss did not improve from -0.66710\n",
            "48/48 [==============================] - 94s 2s/step - loss: -0.7506 - accuracy: 0.7133 - val_loss: -0.6080 - val_accuracy: 0.5347\n",
            "Epoch 48/80\n",
            "48/48 [==============================] - ETA: 0s - loss: -0.7293 - accuracy: 0.6816\n",
            "Epoch 00048: val_loss did not improve from -0.66710\n",
            "48/48 [==============================] - 94s 2s/step - loss: -0.7293 - accuracy: 0.6816 - val_loss: -0.5236 - val_accuracy: 0.4832\n",
            "Epoch 49/80\n",
            "48/48 [==============================] - ETA: 0s - loss: -0.7467 - accuracy: 0.7074\n",
            "Epoch 00049: val_loss did not improve from -0.66710\n",
            "48/48 [==============================] - 95s 2s/step - loss: -0.7467 - accuracy: 0.7074 - val_loss: -0.4016 - val_accuracy: 0.3406\n",
            "Epoch 50/80\n",
            "48/48 [==============================] - ETA: 0s - loss: -0.7468 - accuracy: 0.7074\n",
            "Epoch 00050: val_loss did not improve from -0.66710\n",
            "48/48 [==============================] - 95s 2s/step - loss: -0.7468 - accuracy: 0.7074 - val_loss: -0.2823 - val_accuracy: 0.2594\n",
            "Epoch 51/80\n",
            "48/48 [==============================] - ETA: 0s - loss: -0.7392 - accuracy: 0.6955\n",
            "Epoch 00051: val_loss did not improve from -0.66710\n",
            "48/48 [==============================] - 95s 2s/step - loss: -0.7392 - accuracy: 0.6955 - val_loss: -0.6349 - val_accuracy: 0.5743\n",
            "Epoch 52/80\n",
            "48/48 [==============================] - ETA: 0s - loss: -0.7524 - accuracy: 0.7133\n",
            "Epoch 00052: val_loss did not improve from -0.66710\n",
            "48/48 [==============================] - 96s 2s/step - loss: -0.7524 - accuracy: 0.7133 - val_loss: -0.4979 - val_accuracy: 0.4178\n",
            "Epoch 53/80\n",
            "48/48 [==============================] - ETA: 0s - loss: -0.7468 - accuracy: 0.7081\n",
            "Epoch 00053: val_loss did not improve from -0.66710\n",
            "48/48 [==============================] - 96s 2s/step - loss: -0.7468 - accuracy: 0.7081 - val_loss: -0.5024 - val_accuracy: 0.4218\n",
            "Epoch 54/80\n",
            "48/48 [==============================] - ETA: 0s - loss: -0.7424 - accuracy: 0.7034\n",
            "Epoch 00054: val_loss did not improve from -0.66710\n",
            "48/48 [==============================] - 97s 2s/step - loss: -0.7424 - accuracy: 0.7034 - val_loss: -0.6292 - val_accuracy: 0.5703\n",
            "Epoch 55/80\n",
            "48/48 [==============================] - ETA: 0s - loss: -0.7570 - accuracy: 0.7153\n",
            "Epoch 00055: val_loss did not improve from -0.66710\n",
            "48/48 [==============================] - 97s 2s/step - loss: -0.7570 - accuracy: 0.7153 - val_loss: -0.4572 - val_accuracy: 0.3564\n",
            "Epoch 56/80\n",
            "48/48 [==============================] - ETA: 0s - loss: -0.7690 - accuracy: 0.7371\n",
            "Epoch 00056: val_loss did not improve from -0.66710\n",
            "48/48 [==============================] - 97s 2s/step - loss: -0.7690 - accuracy: 0.7371 - val_loss: -0.5264 - val_accuracy: 0.4475\n",
            "Epoch 57/80\n",
            "48/48 [==============================] - ETA: 0s - loss: -0.7551 - accuracy: 0.7087\n",
            "Epoch 00057: val_loss did not improve from -0.66710\n",
            "48/48 [==============================] - 99s 2s/step - loss: -0.7551 - accuracy: 0.7087 - val_loss: -0.5430 - val_accuracy: 0.4812\n",
            "Epoch 58/80\n",
            "48/48 [==============================] - ETA: 0s - loss: -0.7764 - accuracy: 0.7457\n",
            "Epoch 00058: val_loss did not improve from -0.66710\n",
            "48/48 [==============================] - 101s 2s/step - loss: -0.7764 - accuracy: 0.7457 - val_loss: -0.5688 - val_accuracy: 0.5030\n",
            "Epoch 59/80\n",
            "48/48 [==============================] - ETA: 0s - loss: -0.7541 - accuracy: 0.7107\n",
            "Epoch 00059: val_loss did not improve from -0.66710\n",
            "48/48 [==============================] - 101s 2s/step - loss: -0.7541 - accuracy: 0.7107 - val_loss: -0.4081 - val_accuracy: 0.4119\n",
            "Epoch 60/80\n",
            "48/48 [==============================] - ETA: 0s - loss: -0.7675 - accuracy: 0.7325\n",
            "Epoch 00060: val_loss did not improve from -0.66710\n",
            "48/48 [==============================] - 101s 2s/step - loss: -0.7675 - accuracy: 0.7325 - val_loss: -0.4666 - val_accuracy: 0.4673\n",
            "Epoch 61/80\n",
            "48/48 [==============================] - ETA: 0s - loss: -0.7743 - accuracy: 0.7378\n",
            "Epoch 00061: val_loss did not improve from -0.66710\n",
            "48/48 [==============================] - 101s 2s/step - loss: -0.7743 - accuracy: 0.7378 - val_loss: -0.5172 - val_accuracy: 0.4554\n",
            "Epoch 62/80\n",
            "48/48 [==============================] - ETA: 0s - loss: -0.7762 - accuracy: 0.7437\n",
            "Epoch 00062: val_loss improved from -0.66710 to -0.69216, saving model to /content/gdrive/My Drive/resnet50_augmented.h5\n",
            "48/48 [==============================] - 104s 2s/step - loss: -0.7762 - accuracy: 0.7437 - val_loss: -0.6922 - val_accuracy: 0.6356\n",
            "Epoch 63/80\n",
            "48/48 [==============================] - ETA: 0s - loss: -0.7725 - accuracy: 0.7417\n",
            "Epoch 00063: val_loss improved from -0.69216 to -0.70322, saving model to /content/gdrive/My Drive/resnet50_augmented.h5\n",
            "48/48 [==============================] - 102s 2s/step - loss: -0.7725 - accuracy: 0.7417 - val_loss: -0.7032 - val_accuracy: 0.6535\n",
            "Epoch 64/80\n",
            "48/48 [==============================] - ETA: 0s - loss: -0.7837 - accuracy: 0.7550\n",
            "Epoch 00064: val_loss did not improve from -0.70322\n",
            "48/48 [==============================] - 102s 2s/step - loss: -0.7837 - accuracy: 0.7550 - val_loss: -0.5098 - val_accuracy: 0.4455\n",
            "Epoch 65/80\n",
            "48/48 [==============================] - ETA: 0s - loss: -0.7907 - accuracy: 0.7517\n",
            "Epoch 00065: val_loss did not improve from -0.70322\n",
            "48/48 [==============================] - 102s 2s/step - loss: -0.7907 - accuracy: 0.7517 - val_loss: -0.3815 - val_accuracy: 0.3347\n",
            "Epoch 66/80\n",
            "48/48 [==============================] - ETA: 0s - loss: -0.7790 - accuracy: 0.7464\n",
            "Epoch 00066: val_loss did not improve from -0.70322\n",
            "48/48 [==============================] - 106s 2s/step - loss: -0.7790 - accuracy: 0.7464 - val_loss: -0.4687 - val_accuracy: 0.4000\n",
            "Epoch 67/80\n",
            "48/48 [==============================] - ETA: 0s - loss: -0.7688 - accuracy: 0.7398\n",
            "Epoch 00067: val_loss did not improve from -0.70322\n",
            "48/48 [==============================] - 105s 2s/step - loss: -0.7688 - accuracy: 0.7398 - val_loss: -0.5890 - val_accuracy: 0.5168\n",
            "Epoch 68/80\n",
            "48/48 [==============================] - ETA: 0s - loss: -0.7811 - accuracy: 0.7543\n",
            "Epoch 00068: val_loss did not improve from -0.70322\n",
            "48/48 [==============================] - 105s 2s/step - loss: -0.7811 - accuracy: 0.7543 - val_loss: -0.3915 - val_accuracy: 0.3386\n",
            "Epoch 69/80\n",
            "48/48 [==============================] - ETA: 0s - loss: -0.7878 - accuracy: 0.7569\n",
            "Epoch 00069: val_loss did not improve from -0.70322\n",
            "48/48 [==============================] - 105s 2s/step - loss: -0.7878 - accuracy: 0.7569 - val_loss: -0.6351 - val_accuracy: 0.5683\n",
            "Epoch 70/80\n",
            "48/48 [==============================] - ETA: 0s - loss: -0.7789 - accuracy: 0.7470\n",
            "Epoch 00070: val_loss did not improve from -0.70322\n",
            "48/48 [==============================] - 106s 2s/step - loss: -0.7789 - accuracy: 0.7470 - val_loss: -0.5280 - val_accuracy: 0.4693\n",
            "Epoch 71/80\n",
            "48/48 [==============================] - ETA: 0s - loss: -0.7955 - accuracy: 0.7682\n",
            "Epoch 00071: val_loss did not improve from -0.70322\n",
            "48/48 [==============================] - 104s 2s/step - loss: -0.7955 - accuracy: 0.7682 - val_loss: -0.4127 - val_accuracy: 0.3980\n",
            "Epoch 72/80\n",
            "48/48 [==============================] - ETA: 0s - loss: -0.7713 - accuracy: 0.7378\n",
            "Epoch 00072: val_loss did not improve from -0.70322\n",
            "48/48 [==============================] - 104s 2s/step - loss: -0.7713 - accuracy: 0.7378 - val_loss: -0.3249 - val_accuracy: 0.3089\n",
            "Epoch 73/80\n",
            "48/48 [==============================] - ETA: 0s - loss: -0.7762 - accuracy: 0.7338\n",
            "Epoch 00073: val_loss did not improve from -0.70322\n",
            "48/48 [==============================] - 105s 2s/step - loss: -0.7762 - accuracy: 0.7338 - val_loss: -0.5517 - val_accuracy: 0.4931\n",
            "Epoch 74/80\n",
            "48/48 [==============================] - ETA: 0s - loss: -0.7873 - accuracy: 0.7556\n",
            "Epoch 00074: val_loss did not improve from -0.70322\n",
            "48/48 [==============================] - 105s 2s/step - loss: -0.7873 - accuracy: 0.7556 - val_loss: -0.5274 - val_accuracy: 0.4475\n",
            "Epoch 75/80\n",
            "48/48 [==============================] - ETA: 0s - loss: -0.7976 - accuracy: 0.7688\n",
            "Epoch 00075: val_loss did not improve from -0.70322\n",
            "48/48 [==============================] - 105s 2s/step - loss: -0.7976 - accuracy: 0.7688 - val_loss: -0.5822 - val_accuracy: 0.5287\n",
            "Epoch 76/80\n",
            "48/48 [==============================] - ETA: 0s - loss: -0.7907 - accuracy: 0.7629\n",
            "Epoch 00076: val_loss did not improve from -0.70322\n",
            "48/48 [==============================] - 106s 2s/step - loss: -0.7907 - accuracy: 0.7629 - val_loss: -0.6452 - val_accuracy: 0.5782\n",
            "Epoch 77/80\n",
            "48/48 [==============================] - ETA: 0s - loss: -0.7915 - accuracy: 0.7589\n",
            "Epoch 00077: val_loss did not improve from -0.70322\n",
            "48/48 [==============================] - 105s 2s/step - loss: -0.7915 - accuracy: 0.7589 - val_loss: -0.5248 - val_accuracy: 0.4673\n",
            "Epoch 78/80\n",
            "48/48 [==============================] - ETA: 0s - loss: -0.7934 - accuracy: 0.7642\n",
            "Epoch 00078: val_loss did not improve from -0.70322\n",
            "48/48 [==============================] - 106s 2s/step - loss: -0.7934 - accuracy: 0.7642 - val_loss: -0.5050 - val_accuracy: 0.4614\n",
            "Epoch 79/80\n",
            "48/48 [==============================] - ETA: 0s - loss: -0.7953 - accuracy: 0.7583\n",
            "Epoch 00079: val_loss did not improve from -0.70322\n",
            "48/48 [==============================] - 104s 2s/step - loss: -0.7953 - accuracy: 0.7583 - val_loss: -0.4254 - val_accuracy: 0.3842\n",
            "Epoch 80/80\n",
            "48/48 [==============================] - ETA: 0s - loss: -0.8134 - accuracy: 0.7946\n",
            "Epoch 00080: val_loss improved from -0.70322 to -0.72980, saving model to /content/gdrive/My Drive/resnet50_augmented.h5\n",
            "48/48 [==============================] - 106s 2s/step - loss: -0.8134 - accuracy: 0.7946 - val_loss: -0.7298 - val_accuracy: 0.6832\n"
          ],
          "name": "stdout"
        }
      ]
    },
    {
      "cell_type": "code",
      "metadata": {
        "id": "MxX-X7ulGqbO",
        "colab_type": "code",
        "colab": {}
      },
      "source": [
        "acc = history.history['accuracy']\n",
        "val_acc = history.history['val_accuracy']\n",
        "\n",
        "epochs_range = range(EPOCHS)\n",
        "\n",
        "plt.plot(epochs_range, acc, label='Training Accuracy')\n",
        "plt.plot(epochs_range, val_acc, label='Validation Accuracy')\n",
        "plt.legend(loc='lower right')\n",
        "plt.title('Learning Curve, simple CNN with non-augmented data')\n",
        "plt.xlabel('Epoch')\n",
        "plt.ylabel('Accuracy')\n",
        "#plt.show()\n",
        "plt.savefig(os.path.join(GDRIVE, f'{MODEL_NAME}_learning_curve.png'))\n",
        "plt.close()"
      ],
      "execution_count": 0,
      "outputs": []
    },
    {
      "cell_type": "code",
      "metadata": {
        "id": "1hsCPDiMGwTY",
        "colab_type": "code",
        "colab": {
          "base_uri": "https://localhost:8080/",
          "height": 34
        },
        "outputId": "39f4978d-7327-4f21-b58f-3a726f4753a1"
      },
      "source": [
        "test_predictions = np.argmax(model.predict(test_generator, verbose=1, batch_size=BATCH_SIZE, steps=ceil(total_test / BATCH_SIZE)), axis=-1)"
      ],
      "execution_count": 23,
      "outputs": [
        {
          "output_type": "stream",
          "text": [
            "16/16 [==============================] - 229s 14s/step\n"
          ],
          "name": "stdout"
        }
      ]
    },
    {
      "cell_type": "code",
      "metadata": {
        "id": "yIbcjGv1GyqO",
        "colab_type": "code",
        "colab": {}
      },
      "source": [
        "test_cm = np.array(confusion_matrix(test_generator.labels, test_predictions))\n",
        "df_cm = pd.DataFrame(test_cm, WASTE_TYPES, WASTE_TYPES)\n",
        "\n",
        "plt.figure(figsize=(10, 8))\n",
        "sns.heatmap(df_cm, annot=True, fmt=\"d\", cmap=\"YlGnBu\")\n",
        "plt.savefig(os.path.join(GDRIVE, f'{MODEL_NAME}_confusion_matrix.png'))\n",
        "plt.close()"
      ],
      "execution_count": 0,
      "outputs": []
    },
    {
      "cell_type": "code",
      "metadata": {
        "id": "AoSQot_HG1Uk",
        "colab_type": "code",
        "colab": {
          "base_uri": "https://localhost:8080/",
          "height": 34
        },
        "outputId": "67c3ad31-9fb5-444c-e35f-2526ca9888d9"
      },
      "source": [
        "accuracy = np.trace(test_cm) / np.sum(test_cm)\n",
        "print(f'Test accruracy: {accuracy * 100:.2f}%')"
      ],
      "execution_count": 25,
      "outputs": [
        {
          "output_type": "stream",
          "text": [
            "Test accruracy: 66.14%\n"
          ],
          "name": "stdout"
        }
      ]
    },
    {
      "cell_type": "code",
      "metadata": {
        "id": "NzN9ocirqtbF",
        "colab_type": "code",
        "colab": {
          "base_uri": "https://localhost:8080/",
          "height": 34
        },
        "outputId": "cdb1b8ed-da22-47d6-ec85-fb9f89444e57"
      },
      "source": [
        "# How many augmented images did we produce in the course of training?\n",
        "len(os.listdir(TRAIN_AUG_DATA_DIR))"
      ],
      "execution_count": 31,
      "outputs": [
        {
          "output_type": "execute_result",
          "data": {
            "text/plain": [
              "121152"
            ]
          },
          "metadata": {
            "tags": []
          },
          "execution_count": 31
        }
      ]
    }
  ]
}