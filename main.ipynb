{
 "cells": [
  {
   "cell_type": "code",
   "execution_count": 23,
   "metadata": {},
   "outputs": [],
   "source": [
    "from pathlib import Path\n",
    "import zipfile as zf\n",
    "import os\n",
    "import random\n",
    "import shutil\n",
    "import urllib.request"
   ]
  },
  {
   "cell_type": "code",
   "execution_count": 43,
   "metadata": {},
   "outputs": [],
   "source": [
    "RANDOM_SEED = 0\n",
    "\n",
    "TRAIN_SPLIT = 0.6 # percentage of total data reserved for training\n",
    "VAL_TEST_SPLIT = 0.5 # after allocating the training data, how do you want to split the remaining data between val and test?\n",
    "\n",
    "DATASET_ZIP_FILE = 'dataset-resized.zip'\n",
    "DATASET_URL = f'https://github.com/garythung/trashnet/raw/master/data/{DATASET_ZIP_FILE}'\n",
    "INPUT_DATA_DIR = DATASET_ZIP_FILE.split('.')[0] # folder containing all our data\n",
    "OUTPUT_DATA_DIR = 'data' # we will store train/ valid/ test/ directories here\n",
    "\n",
    "SUBSETS = ['train', 'valid']\n",
    "WASTE_TYPES = ['cardboard', 'glass', 'metal', 'paper', 'plastic', 'trash']\n",
    "\n",
    "random.seed(RANDOM_SEED)"
   ]
  },
  {
   "cell_type": "code",
   "execution_count": 22,
   "metadata": {},
   "outputs": [
    {
     "data": {
      "text/plain": [
       "('dataset-resized.zip', <http.client.HTTPMessage at 0x1018c03d0>)"
      ]
     },
     "execution_count": 22,
     "metadata": {},
     "output_type": "execute_result"
    }
   ],
   "source": [
    "# Only run the following 4 blocks if you are trying to rebuild the data/ directory\n",
    "urllib.request.urlretrieve(DATASET_URL, DATASET_ZIP_FILE)"
   ]
  },
  {
   "cell_type": "code",
   "execution_count": 42,
   "metadata": {},
   "outputs": [],
   "source": [
    "files = zf.ZipFile(DATASET_ZIP_FILE, 'r')\n",
    "files.extractall()\n",
    "files.close()"
   ]
  },
  {
   "cell_type": "code",
   "execution_count": 45,
   "metadata": {},
   "outputs": [],
   "source": [
    "# Adapted from: https://github.com/collindching/Waste-Sorter\n",
    "## helper functions ##\n",
    "\n",
    "## splits indices for a folder into train, validation, and test indices with random sampling\n",
    "    ## input: folder path\n",
    "    ## output: train, valid, and test indices    \n",
    "def split_indices(folder):    \n",
    "    n = len(os.listdir(folder))\n",
    "    full_set = list(range(1, n + 1))\n",
    "\n",
    "    ## train indices\n",
    "    train = random.sample(list(range(1, n + 1)), int(TRAIN_SPLIT * n))\n",
    "\n",
    "    ## temp\n",
    "    remain = list(set(full_set) - set(train))\n",
    "\n",
    "    ## separate remaining into validation and test\n",
    "    valid = random.sample(remain, int(VAL_TEST_SPLIT * len(remain)))\n",
    "    test = list(set(remain) - set(valid))\n",
    "    \n",
    "    return train, valid, test\n",
    "\n",
    "## gets file names for a particular type of trash, given indices\n",
    "    ## input: waste category and indices\n",
    "    ## output: file names \n",
    "def get_names(waste_type, indices):\n",
    "    return [f'{waste_type}{i}.jpg' for i in indices]    \n",
    "\n",
    "## moves group of source files to another folder\n",
    "    ## input: list of source files and destination folder\n",
    "    ## no output\n",
    "def move_files(source_files, destination_folder):\n",
    "    for file in source_files:\n",
    "        shutil.move(file, destination_folder)"
   ]
  },
  {
   "cell_type": "code",
   "execution_count": 46,
   "metadata": {},
   "outputs": [],
   "source": [
    "# Adapted from: https://github.com/collindching/Waste-Sorter\n",
    "## paths will be train/cardboard, train/glass, etc...\n",
    "\n",
    "## create destination folders for data subset and waste type\n",
    "for subset in SUBSETS:\n",
    "    for waste_type in WASTE_TYPES:\n",
    "        folder = os.path.join(OUTPUT_DATA_DIR, subset, waste_type)\n",
    "        if not os.path.exists(folder):\n",
    "            os.makedirs(folder)\n",
    "            \n",
    "if not os.path.exists(os.path.join(OUTPUT_DATA_DIR, 'test')):\n",
    "    os.makedirs(os.path.join(OUTPUT_DATA_DIR, 'test'))\n",
    "            \n",
    "## move files to destination folders for each waste type\n",
    "for waste_type in WASTE_TYPES:\n",
    "    source_folder = os.path.join(INPUT_DATA_DIR, waste_type)\n",
    "    train_ind, valid_ind, test_ind = split_indices(source_folder)\n",
    "    \n",
    "    ## move source files to train\n",
    "    train_names = get_names(waste_type, train_ind)\n",
    "    train_source_files = [os.path.join(source_folder, name) for name in train_names]\n",
    "    train_dest = os.path.join(OUTPUT_DATA_DIR, 'train', waste_type)\n",
    "    move_files(train_source_files, train_dest)\n",
    "    \n",
    "    ## move source files to valid\n",
    "    valid_names = get_names(waste_type, valid_ind)\n",
    "    valid_source_files = [os.path.join(source_folder, name) for name in valid_names]\n",
    "    valid_dest = os.path.join(OUTPUT_DATA_DIR, 'valid', waste_type)\n",
    "    move_files(valid_source_files, valid_dest)\n",
    "    \n",
    "    ## move source files to test\n",
    "    test_names = get_names(waste_type, test_ind)\n",
    "    test_source_files = [os.path.join(source_folder, name) for name in test_names]\n",
    "    ## I use data/test here because the images can be mixed up\n",
    "    move_files(test_source_files, os.path.join(OUTPUT_DATA_DIR, 'test'))\n",
    "\n",
    "shutil.rmtree(INPUT_DATA_DIR)"
   ]
  }
 ],
 "metadata": {
  "kernelspec": {
   "display_name": "Python 3",
   "language": "python",
   "name": "python3"
  },
  "language_info": {
   "codemirror_mode": {
    "name": "ipython",
    "version": 3
   },
   "file_extension": ".py",
   "mimetype": "text/x-python",
   "name": "python",
   "nbconvert_exporter": "python",
   "pygments_lexer": "ipython3",
   "version": "3.7.6"
  }
 },
 "nbformat": 4,
 "nbformat_minor": 4
}
