{
 "cells": [
  {
   "cell_type": "code",
   "execution_count": 1,
   "metadata": {
    "colab": {
     "base_uri": "https://localhost:8080/",
     "height": 34
    },
    "colab_type": "code",
    "id": "Q4ClgqHhcPC4",
    "outputId": "20fbe52a-51c3-488c-e1cd-de35398680e2"
   },
   "outputs": [
    {
     "name": "stdout",
     "output_type": "stream",
     "text": [
      "Drive already mounted at /content/gdrive; to attempt to forcibly remount, call drive.mount(\"/content/gdrive\", force_remount=True).\n"
     ]
    }
   ],
   "source": [
    "# If not running on Google Colab/Drive, skip this\n",
    "# Run this block first and follow the instructions to authorize mounting\n",
    "from google.colab import drive\n",
    "drive.mount('/content/gdrive')"
   ]
  },
  {
   "cell_type": "code",
   "execution_count": 2,
   "metadata": {
    "colab": {
     "base_uri": "https://localhost:8080/",
     "height": 71
    },
    "colab_type": "code",
    "id": "f2giK2H-cfbM",
    "outputId": "253e7111-e923-4c18-dcf2-ea8c9c856ffc"
   },
   "outputs": [
    {
     "name": "stderr",
     "output_type": "stream",
     "text": [
      "/usr/local/lib/python3.6/dist-packages/statsmodels/tools/_testing.py:19: FutureWarning: pandas.util.testing is deprecated. Use the functions in the public API at pandas.testing instead.\n",
      "  import pandas.util.testing as tm\n"
     ]
    }
   ],
   "source": [
    "from tensorflow.keras.layers import GlobalAveragePooling2D, Dense, Dropout  \n",
    "from tensorflow.keras.models import Sequential\n",
    "from tensorflow.keras.preprocessing.image import ImageDataGenerator\n",
    "from tensorflow.keras.applications import ResNet50\n",
    "from tensorflow.keras.callbacks import ModelCheckpoint\n",
    "from tensorflow.math import confusion_matrix\n",
    "from math import ceil\n",
    "import numpy as np\n",
    "import pandas as pd\n",
    "import seaborn as sns\n",
    "import os\n",
    "import random\n",
    "import PIL\n",
    "import matplotlib.pyplot as plt\n",
    "import pickle"
   ]
  },
  {
   "cell_type": "code",
   "execution_count": 0,
   "metadata": {
    "colab": {},
    "colab_type": "code",
    "id": "nZjcezMAcg0X"
   },
   "outputs": [],
   "source": [
    "# If not running on Google Colab/Drive, modify this to root, \".\"\n",
    "GDRIVE = os.path.join('/', 'content', 'gdrive', 'My Drive')"
   ]
  },
  {
   "cell_type": "code",
   "execution_count": 0,
   "metadata": {
    "colab": {},
    "colab_type": "code",
    "id": "9H91G3iNciN6"
   },
   "outputs": [],
   "source": [
    "RANDOM_SEED = 0\n",
    "\n",
    "OUTPUT_DATA_DIR = os.path.join(GDRIVE, 'data') # we will store train/ valid/ test/ directories here\n",
    "TRAIN_DATA_DIR = os.path.join(OUTPUT_DATA_DIR, 'train')\n",
    "VAL_DATA_DIR = os.path.join(OUTPUT_DATA_DIR, 'valid')\n",
    "TEST_DATA_DIR = os.path.join(OUTPUT_DATA_DIR, 'test')\n",
    "\n",
    "WASTE_TYPES = ['cardboard', 'glass', 'metal', 'paper', 'plastic', 'trash']\n",
    "\n",
    "IMG_HEIGHT = IMG_WIDTH = 256\n",
    "EPOCHS = 80\n",
    "BATCH_SIZE = 32\n",
    "\n",
    "random.seed(RANDOM_SEED)"
   ]
  },
  {
   "cell_type": "code",
   "execution_count": 0,
   "metadata": {
    "colab": {},
    "colab_type": "code",
    "id": "6B92I8MZcjpW"
   },
   "outputs": [],
   "source": [
    "MODEL_NAME = 'resnet50_non_augmented'\n",
    "\n",
    "def create_model():\n",
    "    base_model = ResNet50(input_shape=(IMG_HEIGHT, IMG_WIDTH, 3), include_top=False, weights=None)\n",
    "    \n",
    "    #base_model.trainable = False\n",
    "    \n",
    "    model = Sequential([\n",
    "        base_model,\n",
    "        GlobalAveragePooling2D(),\n",
    "        Dropout(0.4),\n",
    "        Dense(len(WASTE_TYPES))\n",
    "    ])\n",
    "    \n",
    "    model.compile(loss='cosine_similarity', optimizer='adam', metrics=['accuracy'])\n",
    "    \n",
    "    return model"
   ]
  },
  {
   "cell_type": "code",
   "execution_count": 6,
   "metadata": {
    "colab": {
     "base_uri": "https://localhost:8080/",
     "height": 289
    },
    "colab_type": "code",
    "id": "q7TmWT7yMjA-",
    "outputId": "01c44bbe-7355-455d-9a63-577ade8707ab"
   },
   "outputs": [
    {
     "name": "stdout",
     "output_type": "stream",
     "text": [
      "Model: \"sequential\"\n",
      "_________________________________________________________________\n",
      "Layer (type)                 Output Shape              Param #   \n",
      "=================================================================\n",
      "resnet50 (Model)             (None, 8, 8, 2048)        23587712  \n",
      "_________________________________________________________________\n",
      "global_average_pooling2d (Gl (None, 2048)              0         \n",
      "_________________________________________________________________\n",
      "dropout (Dropout)            (None, 2048)              0         \n",
      "_________________________________________________________________\n",
      "dense (Dense)                (None, 6)                 12294     \n",
      "=================================================================\n",
      "Total params: 23,600,006\n",
      "Trainable params: 23,546,886\n",
      "Non-trainable params: 53,120\n",
      "_________________________________________________________________\n"
     ]
    }
   ],
   "source": [
    "model = create_model()\n",
    "model.summary()"
   ]
  },
  {
   "cell_type": "code",
   "execution_count": 43,
   "metadata": {
    "colab": {
     "base_uri": "https://localhost:8080/",
     "height": 68
    },
    "colab_type": "code",
    "id": "c9Rm7aoPMjip",
    "outputId": "b06415ad-fd5b-461c-97df-d33ed628e9b2"
   },
   "outputs": [
    {
     "name": "stdout",
     "output_type": "stream",
     "text": [
      "Found 1514 images belonging to 6 classes.\n",
      "Found 505 images belonging to 6 classes.\n",
      "Found 508 images belonging to 6 classes.\n"
     ]
    }
   ],
   "source": [
    "train_datagen = ImageDataGenerator(rescale=1./255)\n",
    "val_datagen = ImageDataGenerator(rescale=1./255)\n",
    "test_datagen = ImageDataGenerator(rescale=1./255)\n",
    "\n",
    "# using default params: target_size=(256, 256)\n",
    "train_generator = train_datagen.flow_from_directory(TRAIN_DATA_DIR, batch_size=BATCH_SIZE)\n",
    "val_generator = val_datagen.flow_from_directory(VAL_DATA_DIR, batch_size=BATCH_SIZE)\n",
    "# don't shuffle test set, it will be easier to predict then\n",
    "test_generator = test_datagen.flow_from_directory(TEST_DATA_DIR, batch_size=BATCH_SIZE, shuffle=False)\n",
    "\n",
    "# This function will plot images in the form of a grid with 1 row and 5 columns where images are placed in each column.\n",
    "def plotImages(images_arr):\n",
    "    fig, axes = plt.subplots(1, 5, figsize=(20, 20))\n",
    "    axes = axes.flatten()\n",
    "    for img, ax in zip( images_arr, axes):\n",
    "        ax.imshow(img)\n",
    "        ax.axis('off')\n",
    "    plt.tight_layout()\n",
    "    plt.show()\n",
    "\n",
    "#sample_training_images, _ = next(train_generator)\n",
    "#plotImages(sample_training_images[:5])"
   ]
  },
  {
   "cell_type": "code",
   "execution_count": 44,
   "metadata": {
    "colab": {
     "base_uri": "https://localhost:8080/",
     "height": 34
    },
    "colab_type": "code",
    "id": "sk6Zf0HWMloO",
    "outputId": "b14a99f6-5a35-43ca-cbaa-59b879d17329"
   },
   "outputs": [
    {
     "name": "stdout",
     "output_type": "stream",
     "text": [
      "1514 505 508\n"
     ]
    }
   ],
   "source": [
    "# Get these values from the above cell, or from prepare_train_test_data.ipynb\n",
    "total_train = 1514\n",
    "total_val = 505\n",
    "total_test = 508\n",
    "print(total_train, total_val, total_test)"
   ]
  },
  {
   "cell_type": "code",
   "execution_count": 13,
   "metadata": {
    "colab": {
     "base_uri": "https://localhost:8080/",
     "height": 1000
    },
    "colab_type": "code",
    "id": "ktultgkhMoMH",
    "outputId": "66b787f8-506c-4c38-faa1-ff64410f42ca"
   },
   "outputs": [
    {
     "name": "stdout",
     "output_type": "stream",
     "text": [
      "Epoch 1/80\n",
      "48/48 [==============================] - ETA: 0s - loss: -0.5408 - accuracy: 0.4531\n",
      "Epoch 00001: val_loss improved from inf to -0.30545, saving model to resnet50_non_augmented.h5\n",
      "48/48 [==============================] - 14s 293ms/step - loss: -0.5408 - accuracy: 0.4531 - val_loss: -0.3054 - val_accuracy: 0.1663\n",
      "Epoch 2/80\n",
      "48/48 [==============================] - ETA: 0s - loss: -0.6102 - accuracy: 0.5403\n",
      "Epoch 00002: val_loss did not improve from -0.30545\n",
      "48/48 [==============================] - 13s 271ms/step - loss: -0.6102 - accuracy: 0.5403 - val_loss: -0.2523 - val_accuracy: 0.1901\n",
      "Epoch 3/80\n",
      "48/48 [==============================] - ETA: 0s - loss: -0.6321 - accuracy: 0.5746\n",
      "Epoch 00003: val_loss did not improve from -0.30545\n",
      "48/48 [==============================] - 13s 272ms/step - loss: -0.6321 - accuracy: 0.5746 - val_loss: -0.2876 - val_accuracy: 0.2396\n",
      "Epoch 4/80\n",
      "48/48 [==============================] - ETA: 0s - loss: -0.6561 - accuracy: 0.5958\n",
      "Epoch 00004: val_loss did not improve from -0.30545\n",
      "48/48 [==============================] - 13s 270ms/step - loss: -0.6561 - accuracy: 0.5958 - val_loss: -0.2923 - val_accuracy: 0.2356\n",
      "Epoch 5/80\n",
      "48/48 [==============================] - ETA: 0s - loss: -0.6578 - accuracy: 0.5991\n",
      "Epoch 00005: val_loss improved from -0.30545 to -0.34455, saving model to resnet50_non_augmented.h5\n",
      "48/48 [==============================] - 13s 278ms/step - loss: -0.6578 - accuracy: 0.5991 - val_loss: -0.3445 - val_accuracy: 0.2931\n",
      "Epoch 6/80\n",
      "48/48 [==============================] - ETA: 0s - loss: -0.6380 - accuracy: 0.5760\n",
      "Epoch 00006: val_loss improved from -0.34455 to -0.36650, saving model to resnet50_non_augmented.h5\n",
      "48/48 [==============================] - 13s 277ms/step - loss: -0.6380 - accuracy: 0.5760 - val_loss: -0.3665 - val_accuracy: 0.3347\n",
      "Epoch 7/80\n",
      "48/48 [==============================] - ETA: 0s - loss: -0.6538 - accuracy: 0.5819\n",
      "Epoch 00007: val_loss did not improve from -0.36650\n",
      "48/48 [==============================] - 13s 271ms/step - loss: -0.6538 - accuracy: 0.5819 - val_loss: -0.3649 - val_accuracy: 0.3505\n",
      "Epoch 8/80\n",
      "48/48 [==============================] - ETA: 0s - loss: -0.6589 - accuracy: 0.6011\n",
      "Epoch 00008: val_loss improved from -0.36650 to -0.43035, saving model to resnet50_non_augmented.h5\n",
      "48/48 [==============================] - 13s 278ms/step - loss: -0.6589 - accuracy: 0.6011 - val_loss: -0.4304 - val_accuracy: 0.3762\n",
      "Epoch 9/80\n",
      "48/48 [==============================] - ETA: 0s - loss: -0.6817 - accuracy: 0.6394\n",
      "Epoch 00009: val_loss did not improve from -0.43035\n",
      "48/48 [==============================] - 13s 271ms/step - loss: -0.6817 - accuracy: 0.6394 - val_loss: -0.3778 - val_accuracy: 0.3149\n",
      "Epoch 10/80\n",
      "48/48 [==============================] - ETA: 0s - loss: -0.6859 - accuracy: 0.6466\n",
      "Epoch 00010: val_loss did not improve from -0.43035\n",
      "48/48 [==============================] - 13s 271ms/step - loss: -0.6859 - accuracy: 0.6466 - val_loss: -0.3454 - val_accuracy: 0.2891\n",
      "Epoch 11/80\n",
      "48/48 [==============================] - ETA: 0s - loss: -0.6927 - accuracy: 0.6380\n",
      "Epoch 00011: val_loss did not improve from -0.43035\n",
      "48/48 [==============================] - 13s 271ms/step - loss: -0.6927 - accuracy: 0.6380 - val_loss: -0.3367 - val_accuracy: 0.2792\n",
      "Epoch 12/80\n",
      "48/48 [==============================] - ETA: 0s - loss: -0.6999 - accuracy: 0.6645\n",
      "Epoch 00012: val_loss did not improve from -0.43035\n",
      "48/48 [==============================] - 13s 274ms/step - loss: -0.6999 - accuracy: 0.6645 - val_loss: -0.3342 - val_accuracy: 0.3208\n",
      "Epoch 13/80\n",
      "48/48 [==============================] - ETA: 0s - loss: -0.6839 - accuracy: 0.6374\n",
      "Epoch 00013: val_loss did not improve from -0.43035\n",
      "48/48 [==============================] - 13s 271ms/step - loss: -0.6839 - accuracy: 0.6374 - val_loss: -0.2664 - val_accuracy: 0.1743\n",
      "Epoch 14/80\n",
      "48/48 [==============================] - ETA: 0s - loss: -0.6922 - accuracy: 0.6466\n",
      "Epoch 00014: val_loss improved from -0.43035 to -0.47126, saving model to resnet50_non_augmented.h5\n",
      "48/48 [==============================] - 13s 278ms/step - loss: -0.6922 - accuracy: 0.6466 - val_loss: -0.4713 - val_accuracy: 0.3663\n",
      "Epoch 15/80\n",
      "48/48 [==============================] - ETA: 0s - loss: -0.7125 - accuracy: 0.6697\n",
      "Epoch 00015: val_loss did not improve from -0.47126\n",
      "48/48 [==============================] - 13s 271ms/step - loss: -0.7125 - accuracy: 0.6697 - val_loss: -0.3601 - val_accuracy: 0.2653\n",
      "Epoch 16/80\n",
      "48/48 [==============================] - ETA: 0s - loss: -0.7212 - accuracy: 0.6783\n",
      "Epoch 00016: val_loss improved from -0.47126 to -0.54935, saving model to resnet50_non_augmented.h5\n",
      "48/48 [==============================] - 13s 276ms/step - loss: -0.7212 - accuracy: 0.6783 - val_loss: -0.5493 - val_accuracy: 0.4752\n",
      "Epoch 17/80\n",
      "48/48 [==============================] - ETA: 0s - loss: -0.7390 - accuracy: 0.7001\n",
      "Epoch 00017: val_loss did not improve from -0.54935\n",
      "48/48 [==============================] - 13s 273ms/step - loss: -0.7390 - accuracy: 0.7001 - val_loss: -0.2707 - val_accuracy: 0.2535\n",
      "Epoch 18/80\n",
      "48/48 [==============================] - ETA: 0s - loss: -0.7273 - accuracy: 0.6896\n",
      "Epoch 00018: val_loss did not improve from -0.54935\n",
      "48/48 [==============================] - 13s 270ms/step - loss: -0.7273 - accuracy: 0.6896 - val_loss: -0.3871 - val_accuracy: 0.2990\n",
      "Epoch 19/80\n",
      "48/48 [==============================] - ETA: 0s - loss: -0.7332 - accuracy: 0.6995\n",
      "Epoch 00019: val_loss did not improve from -0.54935\n",
      "48/48 [==============================] - 13s 272ms/step - loss: -0.7332 - accuracy: 0.6995 - val_loss: -0.3299 - val_accuracy: 0.3168\n",
      "Epoch 20/80\n",
      "48/48 [==============================] - ETA: 0s - loss: -0.7369 - accuracy: 0.6948\n",
      "Epoch 00020: val_loss did not improve from -0.54935\n",
      "48/48 [==============================] - 13s 270ms/step - loss: -0.7369 - accuracy: 0.6948 - val_loss: -0.3113 - val_accuracy: 0.2891\n",
      "Epoch 21/80\n",
      "48/48 [==============================] - ETA: 0s - loss: -0.7436 - accuracy: 0.7094\n",
      "Epoch 00021: val_loss did not improve from -0.54935\n",
      "48/48 [==============================] - 13s 271ms/step - loss: -0.7436 - accuracy: 0.7094 - val_loss: -0.3036 - val_accuracy: 0.2634\n",
      "Epoch 22/80\n",
      "48/48 [==============================] - ETA: 0s - loss: -0.7534 - accuracy: 0.7219\n",
      "Epoch 00022: val_loss did not improve from -0.54935\n",
      "48/48 [==============================] - 13s 271ms/step - loss: -0.7534 - accuracy: 0.7219 - val_loss: -0.2636 - val_accuracy: 0.2515\n",
      "Epoch 23/80\n",
      "48/48 [==============================] - ETA: 0s - loss: -0.7548 - accuracy: 0.7186\n",
      "Epoch 00023: val_loss did not improve from -0.54935\n",
      "48/48 [==============================] - 13s 271ms/step - loss: -0.7548 - accuracy: 0.7186 - val_loss: -0.1847 - val_accuracy: 0.1267\n",
      "Epoch 24/80\n",
      "48/48 [==============================] - ETA: 0s - loss: -0.7646 - accuracy: 0.7318\n",
      "Epoch 00024: val_loss did not improve from -0.54935\n",
      "48/48 [==============================] - 13s 271ms/step - loss: -0.7646 - accuracy: 0.7318 - val_loss: -0.4069 - val_accuracy: 0.3069\n",
      "Epoch 25/80\n",
      "48/48 [==============================] - ETA: 0s - loss: -0.7352 - accuracy: 0.6929\n",
      "Epoch 00025: val_loss did not improve from -0.54935\n",
      "48/48 [==============================] - 13s 270ms/step - loss: -0.7352 - accuracy: 0.6929 - val_loss: -0.3622 - val_accuracy: 0.2970\n",
      "Epoch 26/80\n",
      "48/48 [==============================] - ETA: 0s - loss: -0.7463 - accuracy: 0.7087\n",
      "Epoch 00026: val_loss did not improve from -0.54935\n",
      "48/48 [==============================] - 13s 270ms/step - loss: -0.7463 - accuracy: 0.7087 - val_loss: -0.3628 - val_accuracy: 0.3347\n",
      "Epoch 27/80\n",
      "48/48 [==============================] - ETA: 0s - loss: -0.7690 - accuracy: 0.7305\n",
      "Epoch 00027: val_loss did not improve from -0.54935\n",
      "48/48 [==============================] - 13s 270ms/step - loss: -0.7690 - accuracy: 0.7305 - val_loss: -0.4984 - val_accuracy: 0.4297\n",
      "Epoch 28/80\n",
      "48/48 [==============================] - ETA: 0s - loss: -0.7719 - accuracy: 0.7424\n",
      "Epoch 00028: val_loss did not improve from -0.54935\n",
      "48/48 [==============================] - 13s 271ms/step - loss: -0.7719 - accuracy: 0.7424 - val_loss: -0.4889 - val_accuracy: 0.3901\n",
      "Epoch 29/80\n",
      "48/48 [==============================] - ETA: 0s - loss: -0.7712 - accuracy: 0.7391\n",
      "Epoch 00029: val_loss did not improve from -0.54935\n",
      "48/48 [==============================] - 13s 272ms/step - loss: -0.7712 - accuracy: 0.7391 - val_loss: -0.4141 - val_accuracy: 0.3248\n",
      "Epoch 30/80\n",
      "48/48 [==============================] - ETA: 0s - loss: -0.7903 - accuracy: 0.7629\n",
      "Epoch 00030: val_loss did not improve from -0.54935\n",
      "48/48 [==============================] - 13s 272ms/step - loss: -0.7903 - accuracy: 0.7629 - val_loss: -0.4035 - val_accuracy: 0.3030\n",
      "Epoch 31/80\n",
      "48/48 [==============================] - ETA: 0s - loss: -0.7859 - accuracy: 0.7576\n",
      "Epoch 00031: val_loss did not improve from -0.54935\n",
      "48/48 [==============================] - 13s 270ms/step - loss: -0.7859 - accuracy: 0.7576 - val_loss: -0.2852 - val_accuracy: 0.2198\n",
      "Epoch 32/80\n",
      "48/48 [==============================] - ETA: 0s - loss: -0.7847 - accuracy: 0.7550\n",
      "Epoch 00032: val_loss did not improve from -0.54935\n",
      "48/48 [==============================] - 13s 270ms/step - loss: -0.7847 - accuracy: 0.7550 - val_loss: -0.3367 - val_accuracy: 0.2752\n",
      "Epoch 33/80\n",
      "48/48 [==============================] - ETA: 0s - loss: -0.7902 - accuracy: 0.7655\n",
      "Epoch 00033: val_loss did not improve from -0.54935\n",
      "48/48 [==============================] - 13s 271ms/step - loss: -0.7902 - accuracy: 0.7655 - val_loss: -0.3167 - val_accuracy: 0.3069\n",
      "Epoch 34/80\n",
      "48/48 [==============================] - ETA: 0s - loss: -0.7912 - accuracy: 0.7596\n",
      "Epoch 00034: val_loss did not improve from -0.54935\n",
      "48/48 [==============================] - 13s 271ms/step - loss: -0.7912 - accuracy: 0.7596 - val_loss: -0.3826 - val_accuracy: 0.3109\n",
      "Epoch 35/80\n",
      "48/48 [==============================] - ETA: 0s - loss: -0.7939 - accuracy: 0.7649\n",
      "Epoch 00035: val_loss did not improve from -0.54935\n",
      "48/48 [==============================] - 13s 272ms/step - loss: -0.7939 - accuracy: 0.7649 - val_loss: -0.4011 - val_accuracy: 0.3584\n",
      "Epoch 36/80\n",
      "48/48 [==============================] - ETA: 0s - loss: -0.8086 - accuracy: 0.7867\n",
      "Epoch 00036: val_loss did not improve from -0.54935\n",
      "48/48 [==============================] - 13s 270ms/step - loss: -0.8086 - accuracy: 0.7867 - val_loss: -0.5091 - val_accuracy: 0.4436\n",
      "Epoch 37/80\n",
      "48/48 [==============================] - ETA: 0s - loss: -0.8222 - accuracy: 0.8038\n",
      "Epoch 00037: val_loss did not improve from -0.54935\n",
      "48/48 [==============================] - 13s 271ms/step - loss: -0.8222 - accuracy: 0.8038 - val_loss: -0.4034 - val_accuracy: 0.3485\n",
      "Epoch 38/80\n",
      "48/48 [==============================] - ETA: 0s - loss: -0.8247 - accuracy: 0.8025\n",
      "Epoch 00038: val_loss improved from -0.54935 to -0.67451, saving model to resnet50_non_augmented.h5\n",
      "48/48 [==============================] - 13s 277ms/step - loss: -0.8247 - accuracy: 0.8025 - val_loss: -0.6745 - val_accuracy: 0.6337\n",
      "Epoch 39/80\n",
      "48/48 [==============================] - ETA: 0s - loss: -0.8313 - accuracy: 0.8098\n",
      "Epoch 00039: val_loss did not improve from -0.67451\n",
      "48/48 [==============================] - 13s 272ms/step - loss: -0.8313 - accuracy: 0.8098 - val_loss: -0.5681 - val_accuracy: 0.4931\n",
      "Epoch 40/80\n",
      "48/48 [==============================] - ETA: 0s - loss: -0.8385 - accuracy: 0.8223\n",
      "Epoch 00040: val_loss improved from -0.67451 to -0.68999, saving model to resnet50_non_augmented.h5\n",
      "48/48 [==============================] - 13s 281ms/step - loss: -0.8385 - accuracy: 0.8223 - val_loss: -0.6900 - val_accuracy: 0.6317\n",
      "Epoch 41/80\n",
      "48/48 [==============================] - ETA: 0s - loss: -0.8502 - accuracy: 0.8408\n",
      "Epoch 00041: val_loss did not improve from -0.68999\n",
      "48/48 [==============================] - 13s 272ms/step - loss: -0.8502 - accuracy: 0.8408 - val_loss: -0.6510 - val_accuracy: 0.5802\n",
      "Epoch 42/80\n",
      "48/48 [==============================] - ETA: 0s - loss: -0.8442 - accuracy: 0.8369\n",
      "Epoch 00042: val_loss did not improve from -0.68999\n",
      "48/48 [==============================] - 13s 273ms/step - loss: -0.8442 - accuracy: 0.8369 - val_loss: -0.4258 - val_accuracy: 0.3822\n",
      "Epoch 43/80\n",
      "48/48 [==============================] - ETA: 0s - loss: -0.8504 - accuracy: 0.8468\n",
      "Epoch 00043: val_loss did not improve from -0.68999\n",
      "48/48 [==============================] - 13s 270ms/step - loss: -0.8504 - accuracy: 0.8468 - val_loss: -0.5458 - val_accuracy: 0.4931\n",
      "Epoch 44/80\n",
      "48/48 [==============================] - ETA: 0s - loss: -0.8557 - accuracy: 0.8428\n",
      "Epoch 00044: val_loss did not improve from -0.68999\n",
      "48/48 [==============================] - 13s 271ms/step - loss: -0.8557 - accuracy: 0.8428 - val_loss: -0.4502 - val_accuracy: 0.3644\n",
      "Epoch 45/80\n",
      "48/48 [==============================] - ETA: 0s - loss: -0.8506 - accuracy: 0.8395\n",
      "Epoch 00045: val_loss did not improve from -0.68999\n",
      "48/48 [==============================] - 13s 270ms/step - loss: -0.8506 - accuracy: 0.8395 - val_loss: -0.4738 - val_accuracy: 0.3723\n",
      "Epoch 46/80\n",
      "48/48 [==============================] - ETA: 0s - loss: -0.8590 - accuracy: 0.8468\n",
      "Epoch 00046: val_loss did not improve from -0.68999\n",
      "48/48 [==============================] - 13s 271ms/step - loss: -0.8590 - accuracy: 0.8468 - val_loss: -0.4813 - val_accuracy: 0.4436\n",
      "Epoch 47/80\n",
      "48/48 [==============================] - ETA: 0s - loss: -0.8639 - accuracy: 0.8560\n",
      "Epoch 00047: val_loss did not improve from -0.68999\n",
      "48/48 [==============================] - 13s 270ms/step - loss: -0.8639 - accuracy: 0.8560 - val_loss: -0.6203 - val_accuracy: 0.5644\n",
      "Epoch 48/80\n",
      "48/48 [==============================] - ETA: 0s - loss: -0.8596 - accuracy: 0.8441\n",
      "Epoch 00048: val_loss did not improve from -0.68999\n",
      "48/48 [==============================] - 13s 270ms/step - loss: -0.8596 - accuracy: 0.8441 - val_loss: -0.3624 - val_accuracy: 0.2950\n",
      "Epoch 49/80\n",
      "48/48 [==============================] - ETA: 0s - loss: -0.8714 - accuracy: 0.8534\n",
      "Epoch 00049: val_loss did not improve from -0.68999\n",
      "48/48 [==============================] - 13s 270ms/step - loss: -0.8714 - accuracy: 0.8534 - val_loss: -0.5817 - val_accuracy: 0.5149\n",
      "Epoch 50/80\n",
      "48/48 [==============================] - ETA: 0s - loss: -0.8751 - accuracy: 0.8666\n",
      "Epoch 00050: val_loss did not improve from -0.68999\n",
      "48/48 [==============================] - 13s 269ms/step - loss: -0.8751 - accuracy: 0.8666 - val_loss: -0.4213 - val_accuracy: 0.3861\n",
      "Epoch 51/80\n",
      "48/48 [==============================] - ETA: 0s - loss: -0.8930 - accuracy: 0.8904\n",
      "Epoch 00051: val_loss did not improve from -0.68999\n",
      "48/48 [==============================] - 13s 270ms/step - loss: -0.8930 - accuracy: 0.8904 - val_loss: -0.6006 - val_accuracy: 0.5723\n",
      "Epoch 52/80\n",
      "48/48 [==============================] - ETA: 0s - loss: -0.8955 - accuracy: 0.8877\n",
      "Epoch 00052: val_loss did not improve from -0.68999\n",
      "48/48 [==============================] - 13s 271ms/step - loss: -0.8955 - accuracy: 0.8877 - val_loss: -0.4607 - val_accuracy: 0.4099\n",
      "Epoch 53/80\n",
      "48/48 [==============================] - ETA: 0s - loss: -0.8954 - accuracy: 0.8897\n",
      "Epoch 00053: val_loss did not improve from -0.68999\n",
      "48/48 [==============================] - 13s 271ms/step - loss: -0.8954 - accuracy: 0.8897 - val_loss: -0.6792 - val_accuracy: 0.6317\n",
      "Epoch 54/80\n",
      "48/48 [==============================] - ETA: 0s - loss: -0.9066 - accuracy: 0.9055\n",
      "Epoch 00054: val_loss did not improve from -0.68999\n",
      "48/48 [==============================] - 13s 270ms/step - loss: -0.9066 - accuracy: 0.9055 - val_loss: -0.5960 - val_accuracy: 0.5564\n",
      "Epoch 55/80\n",
      "48/48 [==============================] - ETA: 0s - loss: -0.8970 - accuracy: 0.8930\n",
      "Epoch 00055: val_loss did not improve from -0.68999\n",
      "48/48 [==============================] - 13s 272ms/step - loss: -0.8970 - accuracy: 0.8930 - val_loss: -0.3735 - val_accuracy: 0.3248\n",
      "Epoch 56/80\n",
      "48/48 [==============================] - ETA: 0s - loss: -0.9039 - accuracy: 0.9029\n",
      "Epoch 00056: val_loss did not improve from -0.68999\n",
      "48/48 [==============================] - 13s 271ms/step - loss: -0.9039 - accuracy: 0.9029 - val_loss: -0.6268 - val_accuracy: 0.5960\n",
      "Epoch 57/80\n",
      "48/48 [==============================] - ETA: 0s - loss: -0.9013 - accuracy: 0.8937\n",
      "Epoch 00057: val_loss did not improve from -0.68999\n",
      "48/48 [==============================] - 13s 270ms/step - loss: -0.9013 - accuracy: 0.8937 - val_loss: -0.4765 - val_accuracy: 0.4178\n",
      "Epoch 58/80\n",
      "48/48 [==============================] - ETA: 0s - loss: -0.9038 - accuracy: 0.9016\n",
      "Epoch 00058: val_loss did not improve from -0.68999\n",
      "48/48 [==============================] - 13s 270ms/step - loss: -0.9038 - accuracy: 0.9016 - val_loss: -0.3447 - val_accuracy: 0.3347\n",
      "Epoch 59/80\n",
      "48/48 [==============================] - ETA: 0s - loss: -0.9102 - accuracy: 0.9062\n",
      "Epoch 00059: val_loss did not improve from -0.68999\n",
      "48/48 [==============================] - 13s 272ms/step - loss: -0.9102 - accuracy: 0.9062 - val_loss: -0.5107 - val_accuracy: 0.4851\n",
      "Epoch 60/80\n",
      "48/48 [==============================] - ETA: 0s - loss: -0.9166 - accuracy: 0.9148\n",
      "Epoch 00060: val_loss did not improve from -0.68999\n",
      "48/48 [==============================] - 13s 271ms/step - loss: -0.9166 - accuracy: 0.9148 - val_loss: -0.2833 - val_accuracy: 0.2337\n",
      "Epoch 61/80\n",
      "48/48 [==============================] - ETA: 0s - loss: -0.9191 - accuracy: 0.9135\n",
      "Epoch 00061: val_loss did not improve from -0.68999\n",
      "48/48 [==============================] - 13s 270ms/step - loss: -0.9191 - accuracy: 0.9135 - val_loss: -0.5638 - val_accuracy: 0.5149\n",
      "Epoch 62/80\n",
      "48/48 [==============================] - ETA: 0s - loss: -0.9238 - accuracy: 0.9260\n",
      "Epoch 00062: val_loss did not improve from -0.68999\n",
      "48/48 [==============================] - 13s 271ms/step - loss: -0.9238 - accuracy: 0.9260 - val_loss: -0.3153 - val_accuracy: 0.2713\n",
      "Epoch 63/80\n",
      "48/48 [==============================] - ETA: 0s - loss: -0.9205 - accuracy: 0.9194\n",
      "Epoch 00063: val_loss did not improve from -0.68999\n",
      "48/48 [==============================] - 13s 269ms/step - loss: -0.9205 - accuracy: 0.9194 - val_loss: -0.5705 - val_accuracy: 0.5267\n",
      "Epoch 64/80\n",
      "48/48 [==============================] - ETA: 0s - loss: -0.9117 - accuracy: 0.9036\n",
      "Epoch 00064: val_loss did not improve from -0.68999\n",
      "48/48 [==============================] - 13s 271ms/step - loss: -0.9117 - accuracy: 0.9036 - val_loss: -0.6354 - val_accuracy: 0.5822\n",
      "Epoch 65/80\n",
      "48/48 [==============================] - ETA: 0s - loss: -0.9285 - accuracy: 0.9260\n",
      "Epoch 00065: val_loss improved from -0.68999 to -0.69921, saving model to resnet50_non_augmented.h5\n",
      "48/48 [==============================] - 13s 279ms/step - loss: -0.9285 - accuracy: 0.9260 - val_loss: -0.6992 - val_accuracy: 0.6594\n",
      "Epoch 66/80\n",
      "48/48 [==============================] - ETA: 0s - loss: -0.9388 - accuracy: 0.9406\n",
      "Epoch 00066: val_loss did not improve from -0.69921\n",
      "48/48 [==============================] - 13s 271ms/step - loss: -0.9388 - accuracy: 0.9406 - val_loss: -0.6637 - val_accuracy: 0.6277\n",
      "Epoch 67/80\n",
      "48/48 [==============================] - ETA: 0s - loss: -0.9318 - accuracy: 0.9287\n",
      "Epoch 00067: val_loss did not improve from -0.69921\n",
      "48/48 [==============================] - 13s 272ms/step - loss: -0.9318 - accuracy: 0.9287 - val_loss: -0.5345 - val_accuracy: 0.5089\n",
      "Epoch 68/80\n",
      "48/48 [==============================] - ETA: 0s - loss: -0.9493 - accuracy: 0.9544\n",
      "Epoch 00068: val_loss did not improve from -0.69921\n",
      "48/48 [==============================] - 13s 270ms/step - loss: -0.9493 - accuracy: 0.9544 - val_loss: -0.6531 - val_accuracy: 0.5921\n",
      "Epoch 69/80\n",
      "48/48 [==============================] - ETA: 0s - loss: -0.9465 - accuracy: 0.9472\n",
      "Epoch 00069: val_loss improved from -0.69921 to -0.72507, saving model to resnet50_non_augmented.h5\n",
      "48/48 [==============================] - 13s 277ms/step - loss: -0.9465 - accuracy: 0.9472 - val_loss: -0.7251 - val_accuracy: 0.6812\n",
      "Epoch 70/80\n",
      "48/48 [==============================] - ETA: 0s - loss: -0.9334 - accuracy: 0.9313\n",
      "Epoch 00070: val_loss did not improve from -0.72507\n",
      "48/48 [==============================] - 13s 270ms/step - loss: -0.9334 - accuracy: 0.9313 - val_loss: -0.5089 - val_accuracy: 0.4673\n",
      "Epoch 71/80\n",
      "48/48 [==============================] - ETA: 0s - loss: -0.9333 - accuracy: 0.9267\n",
      "Epoch 00071: val_loss did not improve from -0.72507\n",
      "48/48 [==============================] - 13s 271ms/step - loss: -0.9333 - accuracy: 0.9267 - val_loss: -0.6168 - val_accuracy: 0.5743\n",
      "Epoch 72/80\n",
      "48/48 [==============================] - ETA: 0s - loss: -0.9261 - accuracy: 0.9267\n",
      "Epoch 00072: val_loss did not improve from -0.72507\n",
      "48/48 [==============================] - 13s 270ms/step - loss: -0.9261 - accuracy: 0.9267 - val_loss: -0.3736 - val_accuracy: 0.3366\n",
      "Epoch 73/80\n",
      "48/48 [==============================] - ETA: 0s - loss: -0.9543 - accuracy: 0.9544\n",
      "Epoch 00073: val_loss did not improve from -0.72507\n",
      "48/48 [==============================] - 13s 271ms/step - loss: -0.9543 - accuracy: 0.9544 - val_loss: -0.6883 - val_accuracy: 0.6475\n",
      "Epoch 74/80\n",
      "48/48 [==============================] - ETA: 0s - loss: -0.9456 - accuracy: 0.9452\n",
      "Epoch 00074: val_loss did not improve from -0.72507\n",
      "48/48 [==============================] - 13s 270ms/step - loss: -0.9456 - accuracy: 0.9452 - val_loss: -0.5517 - val_accuracy: 0.4990\n",
      "Epoch 75/80\n",
      "48/48 [==============================] - ETA: 0s - loss: -0.9464 - accuracy: 0.9465\n",
      "Epoch 00075: val_loss did not improve from -0.72507\n",
      "48/48 [==============================] - 13s 270ms/step - loss: -0.9464 - accuracy: 0.9465 - val_loss: -0.4789 - val_accuracy: 0.4238\n",
      "Epoch 76/80\n",
      "48/48 [==============================] - ETA: 0s - loss: -0.9548 - accuracy: 0.9564\n",
      "Epoch 00076: val_loss did not improve from -0.72507\n",
      "48/48 [==============================] - 13s 271ms/step - loss: -0.9548 - accuracy: 0.9564 - val_loss: -0.5346 - val_accuracy: 0.4931\n",
      "Epoch 77/80\n",
      "48/48 [==============================] - ETA: 0s - loss: -0.9306 - accuracy: 0.9240\n",
      "Epoch 00077: val_loss did not improve from -0.72507\n",
      "48/48 [==============================] - 13s 271ms/step - loss: -0.9306 - accuracy: 0.9240 - val_loss: -0.4150 - val_accuracy: 0.3941\n",
      "Epoch 78/80\n",
      "48/48 [==============================] - ETA: 0s - loss: -0.9143 - accuracy: 0.9102\n",
      "Epoch 00078: val_loss did not improve from -0.72507\n",
      "48/48 [==============================] - 13s 271ms/step - loss: -0.9143 - accuracy: 0.9102 - val_loss: -0.4961 - val_accuracy: 0.4574\n",
      "Epoch 79/80\n",
      "48/48 [==============================] - ETA: 0s - loss: -0.9464 - accuracy: 0.9491\n",
      "Epoch 00079: val_loss did not improve from -0.72507\n",
      "48/48 [==============================] - 13s 270ms/step - loss: -0.9464 - accuracy: 0.9491 - val_loss: -0.4736 - val_accuracy: 0.4535\n",
      "Epoch 80/80\n",
      "48/48 [==============================] - ETA: 0s - loss: -0.9493 - accuracy: 0.9511\n",
      "Epoch 00080: val_loss did not improve from -0.72507\n",
      "48/48 [==============================] - 13s 271ms/step - loss: -0.9493 - accuracy: 0.9511 - val_loss: -0.6107 - val_accuracy: 0.5604\n"
     ]
    }
   ],
   "source": [
    "history = model.fit(\n",
    "    train_generator,\n",
    "    steps_per_epoch=ceil(total_train / BATCH_SIZE),\n",
    "    epochs=EPOCHS,\n",
    "    validation_data=val_generator,\n",
    "    validation_steps=ceil(total_val / BATCH_SIZE),\n",
    "    callbacks=[ModelCheckpoint(os.path.join(GDRIVE, f'{MODEL_NAME}.h5'), save_best_only=True, save_weights_only=True, verbose=1)])"
   ]
  },
  {
   "cell_type": "code",
   "execution_count": 0,
   "metadata": {
    "colab": {},
    "colab_type": "code",
    "id": "oCvR30nXcW5p"
   },
   "outputs": [],
   "source": [
    "acc = history.history['accuracy']\n",
    "val_acc = history.history['val_accuracy']\n",
    "\n",
    "epochs_range = range(EPOCHS)\n",
    "\n",
    "plt.plot(epochs_range, acc, label='Training Accuracy')\n",
    "plt.plot(epochs_range, val_acc, label='Validation Accuracy')\n",
    "plt.legend(loc='lower right')\n",
    "plt.title('Learning Curve, simple CNN with non-augmented data')\n",
    "plt.xlabel('Epoch')\n",
    "plt.ylabel('Accuracy')\n",
    "#plt.show()\n",
    "plt.savefig(os.path.join(GDRIVE, f'{MODEL_NAME}_learning_curve.png'))\n",
    "plt.close()\n",
    "\n",
    "with open(os.path.join(GDRIVE, f'{MODEL_NAME}_history.pickle'), 'wb') as f:\n",
    "     pickle.dump(history.history, f)"
   ]
  },
  {
   "cell_type": "code",
   "execution_count": 0,
   "metadata": {
    "colab": {},
    "colab_type": "code",
    "id": "0znl_LuKh6r_"
   },
   "outputs": [],
   "source": [
    "model = create_model() # create a new instance\n",
    "model.load_weights(os.path.join(GDRIVE, f'{MODEL_NAME}.h5'))"
   ]
  },
  {
   "cell_type": "code",
   "execution_count": 46,
   "metadata": {
    "colab": {
     "base_uri": "https://localhost:8080/",
     "height": 34
    },
    "colab_type": "code",
    "id": "g-_SxYTR-_HW",
    "outputId": "19a968b5-f9ae-4861-8f92-45f8b7e75d40"
   },
   "outputs": [
    {
     "name": "stdout",
     "output_type": "stream",
     "text": [
      "16/16 [==============================] - 2s 149ms/step\n"
     ]
    }
   ],
   "source": [
    "test_predictions = np.argmax(model.predict(test_generator, verbose=1, batch_size=BATCH_SIZE, steps=ceil(total_test / BATCH_SIZE)), axis=-1)"
   ]
  },
  {
   "cell_type": "code",
   "execution_count": 0,
   "metadata": {
    "colab": {},
    "colab_type": "code",
    "id": "SJpfHTyB-_43"
   },
   "outputs": [],
   "source": [
    "test_cm = np.array(confusion_matrix(test_generator.labels, test_predictions))\n",
    "df_cm = pd.DataFrame(test_cm, WASTE_TYPES, WASTE_TYPES)\n",
    "\n",
    "plt.figure(figsize=(10, 8))\n",
    "sns.heatmap(df_cm, annot=True, fmt=\"d\", cmap=\"YlGnBu\")\n",
    "plt.savefig(os.path.join(GDRIVE, f'{MODEL_NAME}_confusion_matrix.png'))\n",
    "plt.close()"
   ]
  },
  {
   "cell_type": "code",
   "execution_count": 51,
   "metadata": {
    "colab": {
     "base_uri": "https://localhost:8080/",
     "height": 34
    },
    "colab_type": "code",
    "id": "OCWp5R6Z_Dlz",
    "outputId": "79abf19e-2968-45fe-c483-47c7a0768499"
   },
   "outputs": [
    {
     "name": "stdout",
     "output_type": "stream",
     "text": [
      "Test accruracy: 71.85%\n"
     ]
    }
   ],
   "source": [
    "accuracy = np.trace(test_cm) / np.sum(test_cm)\n",
    "print(f'Test accruracy: {accuracy * 100:.2f}%')"
   ]
  }
 ],
 "metadata": {
  "accelerator": "GPU",
  "colab": {
   "authorship_tag": "ABX9TyP2k+dp5ihgsJ2JFiDN3y6s",
   "name": "resnet50_non_augmented.ipynb",
   "provenance": []
  },
  "kernelspec": {
   "display_name": "Python 3",
   "language": "python",
   "name": "python3"
  },
  "language_info": {
   "codemirror_mode": {
    "name": "ipython",
    "version": 3
   },
   "file_extension": ".py",
   "mimetype": "text/x-python",
   "name": "python",
   "nbconvert_exporter": "python",
   "pygments_lexer": "ipython3",
   "version": "3.7.6"
  }
 },
 "nbformat": 4,
 "nbformat_minor": 1
}
