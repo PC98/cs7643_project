{
 "cells": [
  {
   "cell_type": "code",
   "execution_count": 32,
   "metadata": {
    "colab": {
     "base_uri": "https://localhost:8080/",
     "height": 54
    },
    "colab_type": "code",
    "id": "Q2iufCeK7UAe",
    "outputId": "68630222-5c7e-4e96-9fad-1c7d0271a4c5"
   },
   "outputs": [
    {
     "name": "stdout",
     "output_type": "stream",
     "text": [
      "Drive already mounted at /content/gdrive; to attempt to forcibly remount, call drive.mount(\"/content/gdrive\", force_remount=True).\n"
     ]
    }
   ],
   "source": [
    "# If not running on Google Colab/Drive, skip this\n",
    "# Run this block first and follow the instructions to authorize mounting\n",
    "from google.colab import drive\n",
    "drive.mount('/content/gdrive')"
   ]
  },
  {
   "cell_type": "code",
   "execution_count": 0,
   "metadata": {
    "colab": {},
    "colab_type": "code",
    "id": "f0pwgKcby_Nu"
   },
   "outputs": [],
   "source": [
    "from tensorflow.keras.layers import Conv2D, MaxPooling2D, Flatten, Dense, Dropout  \n",
    "from tensorflow.keras.models import Sequential\n",
    "from tensorflow.keras.preprocessing.image import ImageDataGenerator\n",
    "from tensorflow.math import confusion_matrix\n",
    "from math import ceil\n",
    "import numpy as np\n",
    "import pandas as pd\n",
    "import seaborn as sns\n",
    "import os\n",
    "import random\n",
    "import PIL\n",
    "import matplotlib.pyplot as plt\n",
    "import pickle"
   ]
  },
  {
   "cell_type": "code",
   "execution_count": 0,
   "metadata": {
    "colab": {},
    "colab_type": "code",
    "id": "Rh6F4tqGB2on"
   },
   "outputs": [],
   "source": [
    "# If not running on Google Colab/Drive, modify this to root, \".\"\n",
    "GDRIVE = os.path.join('/', 'content', 'gdrive', 'My Drive')"
   ]
  },
  {
   "cell_type": "code",
   "execution_count": 0,
   "metadata": {
    "colab": {},
    "colab_type": "code",
    "id": "RXh7p2pzzMaX"
   },
   "outputs": [],
   "source": [
    "RANDOM_SEED = 0\n",
    "\n",
    "OUTPUT_DATA_DIR = os.path.join(GDRIVE, 'data') # we will store train/ valid/ test/ directories here\n",
    "TRAIN_DATA_DIR = os.path.join(OUTPUT_DATA_DIR, 'train')\n",
    "VAL_DATA_DIR = os.path.join(OUTPUT_DATA_DIR, 'valid')\n",
    "TEST_DATA_DIR = os.path.join(OUTPUT_DATA_DIR, 'test')\n",
    "\n",
    "WASTE_TYPES = ['cardboard', 'glass', 'metal', 'paper', 'plastic', 'trash']\n",
    "\n",
    "IMG_HEIGHT = IMG_WIDTH = 256\n",
    "EPOCHS = 40\n",
    "BATCH_SIZE = 32\n",
    "\n",
    "random.seed(RANDOM_SEED)"
   ]
  },
  {
   "cell_type": "code",
   "execution_count": 0,
   "metadata": {
    "colab": {},
    "colab_type": "code",
    "id": "VoE4uJGm0GRq"
   },
   "outputs": [],
   "source": [
    "MODEL_NAME = 'small_cnn_non_augmented'\n",
    "\n",
    "model = Sequential([\n",
    "    Conv2D(32, (3, 3), activation='relu', input_shape=(IMG_HEIGHT, IMG_WIDTH , 3)),\n",
    "    MaxPooling2D(pool_size=(2, 2)),\n",
    "    Dropout(0.2),\n",
    "    Conv2D(32, (3, 3), activation='relu'),\n",
    "    MaxPooling2D(pool_size=(2, 2)),\n",
    "    Conv2D(64, (3, 3), activation='relu'),\n",
    "    MaxPooling2D(pool_size=(2, 2)),\n",
    "    Dropout(0.2),\n",
    "    Flatten(),\n",
    "    Dense(64, activation='relu'),\n",
    "    Dropout(0.4),\n",
    "    Dense(len(WASTE_TYPES), activation='softmax')\n",
    "])\n",
    "\n",
    "model.compile(loss='categorical_crossentropy', optimizer='adam', metrics=['accuracy'])"
   ]
  },
  {
   "cell_type": "code",
   "execution_count": 147,
   "metadata": {
    "colab": {
     "base_uri": "https://localhost:8080/",
     "height": 561
    },
    "colab_type": "code",
    "id": "e0UyIMIxBJaM",
    "outputId": "7f7f24ed-e968-45d2-f49a-2bd11cb3ef4a"
   },
   "outputs": [
    {
     "name": "stdout",
     "output_type": "stream",
     "text": [
      "Model: \"sequential_7\"\n",
      "_________________________________________________________________\n",
      "Layer (type)                 Output Shape              Param #   \n",
      "=================================================================\n",
      "conv2d_21 (Conv2D)           (None, 254, 254, 32)      896       \n",
      "_________________________________________________________________\n",
      "max_pooling2d_21 (MaxPooling (None, 127, 127, 32)      0         \n",
      "_________________________________________________________________\n",
      "dropout_19 (Dropout)         (None, 127, 127, 32)      0         \n",
      "_________________________________________________________________\n",
      "conv2d_22 (Conv2D)           (None, 125, 125, 32)      9248      \n",
      "_________________________________________________________________\n",
      "max_pooling2d_22 (MaxPooling (None, 62, 62, 32)        0         \n",
      "_________________________________________________________________\n",
      "conv2d_23 (Conv2D)           (None, 60, 60, 64)        18496     \n",
      "_________________________________________________________________\n",
      "max_pooling2d_23 (MaxPooling (None, 30, 30, 64)        0         \n",
      "_________________________________________________________________\n",
      "dropout_20 (Dropout)         (None, 30, 30, 64)        0         \n",
      "_________________________________________________________________\n",
      "flatten_7 (Flatten)          (None, 57600)             0         \n",
      "_________________________________________________________________\n",
      "dense_14 (Dense)             (None, 64)                3686464   \n",
      "_________________________________________________________________\n",
      "dropout_21 (Dropout)         (None, 64)                0         \n",
      "_________________________________________________________________\n",
      "dense_15 (Dense)             (None, 6)                 390       \n",
      "=================================================================\n",
      "Total params: 3,715,494\n",
      "Trainable params: 3,715,494\n",
      "Non-trainable params: 0\n",
      "_________________________________________________________________\n"
     ]
    }
   ],
   "source": [
    "model.summary()"
   ]
  },
  {
   "cell_type": "code",
   "execution_count": 148,
   "metadata": {
    "colab": {
     "base_uri": "https://localhost:8080/",
     "height": 68
    },
    "colab_type": "code",
    "id": "y4kX8BX2BU3O",
    "outputId": "b261c2b3-76d0-40ba-c777-b37a294d5609"
   },
   "outputs": [
    {
     "name": "stdout",
     "output_type": "stream",
     "text": [
      "Found 1514 images belonging to 6 classes.\n",
      "Found 505 images belonging to 6 classes.\n",
      "Found 508 images belonging to 6 classes.\n"
     ]
    }
   ],
   "source": [
    "train_datagen = ImageDataGenerator(rescale=1./255)\n",
    "val_datagen = ImageDataGenerator(rescale=1./255)\n",
    "test_datagen = ImageDataGenerator(rescale=1./255)\n",
    "\n",
    "# using default params: target_size=(256, 256)\n",
    "train_generator = train_datagen.flow_from_directory(TRAIN_DATA_DIR, batch_size=BATCH_SIZE)\n",
    "val_generator = val_datagen.flow_from_directory(VAL_DATA_DIR, batch_size=BATCH_SIZE)\n",
    "# don't shuffle test set, it will be easier to predict then\n",
    "test_generator = test_datagen.flow_from_directory(TEST_DATA_DIR, batch_size=BATCH_SIZE, shuffle=False)\n",
    "\n",
    "# This function will plot images in the form of a grid with 1 row and 5 columns where images are placed in each column.\n",
    "def plotImages(images_arr):\n",
    "    fig, axes = plt.subplots(1, 5, figsize=(20, 20))\n",
    "    axes = axes.flatten()\n",
    "    for img, ax in zip( images_arr, axes):\n",
    "        ax.imshow(img)\n",
    "        ax.axis('off')\n",
    "    plt.tight_layout()\n",
    "    plt.show()\n",
    "\n",
    "#sample_training_images, _ = next(train_generator)\n",
    "#plotImages(sample_training_images[:5])"
   ]
  },
  {
   "cell_type": "code",
   "execution_count": 149,
   "metadata": {
    "colab": {
     "base_uri": "https://localhost:8080/",
     "height": 34
    },
    "colab_type": "code",
    "id": "S-5pITiASxw8",
    "outputId": "7f8044e9-261c-434c-da29-906ba357a939"
   },
   "outputs": [
    {
     "name": "stdout",
     "output_type": "stream",
     "text": [
      "1514 505 508\n"
     ]
    }
   ],
   "source": [
    "# Get these values from the above cell, or from prepare_train_test_data.ipynb\n",
    "total_train = 1514\n",
    "total_val = 505\n",
    "total_test = 508\n",
    "print(total_train, total_val, total_test)"
   ]
  },
  {
   "cell_type": "code",
   "execution_count": 150,
   "metadata": {
    "colab": {
     "base_uri": "https://localhost:8080/",
     "height": 1000
    },
    "colab_type": "code",
    "id": "qsBz8oMEBXPv",
    "outputId": "220e6c09-1314-4da2-eacc-c0e8a7754214"
   },
   "outputs": [
    {
     "name": "stdout",
     "output_type": "stream",
     "text": [
      "Epoch 1/40\n",
      "48/48 [==============================] - 11s 230ms/step - loss: 1.8959 - accuracy: 0.2338 - val_loss: 1.6686 - val_accuracy: 0.2455\n",
      "Epoch 2/40\n",
      "48/48 [==============================] - 10s 218ms/step - loss: 1.5685 - accuracy: 0.3203 - val_loss: 1.5176 - val_accuracy: 0.4000\n",
      "Epoch 3/40\n",
      "48/48 [==============================] - 11s 221ms/step - loss: 1.4636 - accuracy: 0.4082 - val_loss: 1.3859 - val_accuracy: 0.4535\n",
      "Epoch 4/40\n",
      "48/48 [==============================] - 11s 221ms/step - loss: 1.3490 - accuracy: 0.4452 - val_loss: 1.3059 - val_accuracy: 0.4832\n",
      "Epoch 5/40\n",
      "48/48 [==============================] - 10s 219ms/step - loss: 1.2506 - accuracy: 0.5211 - val_loss: 1.2694 - val_accuracy: 0.5604\n",
      "Epoch 6/40\n",
      "48/48 [==============================] - 11s 223ms/step - loss: 1.2253 - accuracy: 0.5079 - val_loss: 1.2676 - val_accuracy: 0.5366\n",
      "Epoch 7/40\n",
      "48/48 [==============================] - 10s 219ms/step - loss: 1.0661 - accuracy: 0.5892 - val_loss: 1.1300 - val_accuracy: 0.6000\n",
      "Epoch 8/40\n",
      "48/48 [==============================] - 11s 222ms/step - loss: 0.9451 - accuracy: 0.6631 - val_loss: 1.1741 - val_accuracy: 0.5564\n",
      "Epoch 9/40\n",
      "48/48 [==============================] - 11s 225ms/step - loss: 0.9196 - accuracy: 0.6612 - val_loss: 1.2351 - val_accuracy: 0.5901\n",
      "Epoch 10/40\n",
      "48/48 [==============================] - 11s 228ms/step - loss: 0.7653 - accuracy: 0.7345 - val_loss: 1.1579 - val_accuracy: 0.5941\n",
      "Epoch 11/40\n",
      "48/48 [==============================] - 11s 231ms/step - loss: 0.6751 - accuracy: 0.7556 - val_loss: 1.1721 - val_accuracy: 0.5802\n",
      "Epoch 12/40\n",
      "48/48 [==============================] - 11s 219ms/step - loss: 0.5741 - accuracy: 0.7873 - val_loss: 1.2770 - val_accuracy: 0.6178\n",
      "Epoch 13/40\n",
      "48/48 [==============================] - 11s 221ms/step - loss: 0.5233 - accuracy: 0.8018 - val_loss: 1.2979 - val_accuracy: 0.5822\n",
      "Epoch 14/40\n",
      "48/48 [==============================] - 11s 221ms/step - loss: 0.4190 - accuracy: 0.8494 - val_loss: 1.5509 - val_accuracy: 0.5624\n",
      "Epoch 15/40\n",
      "48/48 [==============================] - 11s 220ms/step - loss: 0.4363 - accuracy: 0.8289 - val_loss: 1.3443 - val_accuracy: 0.6020\n",
      "Epoch 16/40\n",
      "48/48 [==============================] - 11s 222ms/step - loss: 0.4049 - accuracy: 0.8573 - val_loss: 1.5722 - val_accuracy: 0.5861\n",
      "Epoch 17/40\n",
      "48/48 [==============================] - 10s 219ms/step - loss: 0.3820 - accuracy: 0.8620 - val_loss: 1.4175 - val_accuracy: 0.6020\n",
      "Epoch 18/40\n",
      "48/48 [==============================] - 10s 218ms/step - loss: 0.3118 - accuracy: 0.8857 - val_loss: 1.8797 - val_accuracy: 0.5505\n",
      "Epoch 19/40\n",
      "48/48 [==============================] - 10s 219ms/step - loss: 0.3671 - accuracy: 0.8573 - val_loss: 1.7148 - val_accuracy: 0.6040\n",
      "Epoch 20/40\n",
      "48/48 [==============================] - 11s 221ms/step - loss: 0.2627 - accuracy: 0.9016 - val_loss: 2.0347 - val_accuracy: 0.5960\n",
      "Epoch 21/40\n",
      "48/48 [==============================] - 11s 222ms/step - loss: 0.3061 - accuracy: 0.8871 - val_loss: 1.8029 - val_accuracy: 0.6000\n",
      "Epoch 22/40\n",
      "48/48 [==============================] - 11s 222ms/step - loss: 0.2632 - accuracy: 0.9075 - val_loss: 1.7403 - val_accuracy: 0.6000\n",
      "Epoch 23/40\n",
      "48/48 [==============================] - 11s 224ms/step - loss: 0.2202 - accuracy: 0.9188 - val_loss: 1.9977 - val_accuracy: 0.6119\n",
      "Epoch 24/40\n",
      "48/48 [==============================] - 11s 221ms/step - loss: 0.2262 - accuracy: 0.9181 - val_loss: 1.9871 - val_accuracy: 0.5941\n",
      "Epoch 25/40\n",
      "48/48 [==============================] - 11s 219ms/step - loss: 0.2153 - accuracy: 0.9148 - val_loss: 1.8815 - val_accuracy: 0.6297\n",
      "Epoch 26/40\n",
      "48/48 [==============================] - 11s 222ms/step - loss: 0.2021 - accuracy: 0.9287 - val_loss: 2.0317 - val_accuracy: 0.5921\n",
      "Epoch 27/40\n",
      "48/48 [==============================] - 11s 219ms/step - loss: 0.2157 - accuracy: 0.9273 - val_loss: 2.3905 - val_accuracy: 0.5782\n",
      "Epoch 28/40\n",
      "48/48 [==============================] - 11s 221ms/step - loss: 0.1953 - accuracy: 0.9234 - val_loss: 1.9862 - val_accuracy: 0.5782\n",
      "Epoch 29/40\n",
      "48/48 [==============================] - 11s 220ms/step - loss: 0.1684 - accuracy: 0.9399 - val_loss: 2.2526 - val_accuracy: 0.5980\n",
      "Epoch 30/40\n",
      "48/48 [==============================] - 11s 225ms/step - loss: 0.1779 - accuracy: 0.9339 - val_loss: 2.2037 - val_accuracy: 0.5921\n",
      "Epoch 31/40\n",
      "48/48 [==============================] - 11s 221ms/step - loss: 0.1789 - accuracy: 0.9366 - val_loss: 2.3041 - val_accuracy: 0.5545\n",
      "Epoch 32/40\n",
      "48/48 [==============================] - 11s 221ms/step - loss: 0.1480 - accuracy: 0.9425 - val_loss: 2.8169 - val_accuracy: 0.5762\n",
      "Epoch 33/40\n",
      "48/48 [==============================] - 10s 218ms/step - loss: 0.1566 - accuracy: 0.9406 - val_loss: 2.1689 - val_accuracy: 0.5921\n",
      "Epoch 34/40\n",
      "48/48 [==============================] - 11s 221ms/step - loss: 0.1541 - accuracy: 0.9432 - val_loss: 2.5579 - val_accuracy: 0.5901\n",
      "Epoch 35/40\n",
      "48/48 [==============================] - 11s 219ms/step - loss: 0.1283 - accuracy: 0.9531 - val_loss: 2.4098 - val_accuracy: 0.5921\n",
      "Epoch 36/40\n",
      "48/48 [==============================] - 10s 219ms/step - loss: 0.1565 - accuracy: 0.9412 - val_loss: 2.3915 - val_accuracy: 0.6079\n",
      "Epoch 37/40\n",
      "48/48 [==============================] - 11s 219ms/step - loss: 0.1609 - accuracy: 0.9366 - val_loss: 2.3748 - val_accuracy: 0.5861\n",
      "Epoch 38/40\n",
      "48/48 [==============================] - 11s 221ms/step - loss: 0.1420 - accuracy: 0.9465 - val_loss: 2.3038 - val_accuracy: 0.5762\n",
      "Epoch 39/40\n",
      "48/48 [==============================] - 11s 219ms/step - loss: 0.1404 - accuracy: 0.9498 - val_loss: 2.3923 - val_accuracy: 0.5980\n",
      "Epoch 40/40\n",
      "48/48 [==============================] - 11s 230ms/step - loss: 0.1782 - accuracy: 0.9306 - val_loss: 2.4052 - val_accuracy: 0.5822\n"
     ]
    }
   ],
   "source": [
    "history = model.fit(\n",
    "    train_generator,\n",
    "    steps_per_epoch=ceil(total_train / BATCH_SIZE),\n",
    "    epochs=EPOCHS,\n",
    "    validation_data=val_generator,\n",
    "    validation_steps=ceil(total_val / BATCH_SIZE))\n",
    "\n",
    "model.save_weights(os.path.join(GDRIVE, f'{MODEL_NAME}.h5'))"
   ]
  },
  {
   "cell_type": "code",
   "execution_count": 0,
   "metadata": {
    "colab": {},
    "colab_type": "code",
    "id": "5wIy8JZDUIHU"
   },
   "outputs": [],
   "source": [
    "acc = history.history['accuracy']\n",
    "val_acc = history.history['val_accuracy']\n",
    "\n",
    "epochs_range = range(EPOCHS)\n",
    "\n",
    "plt.plot(epochs_range, acc, label='Training Accuracy')\n",
    "plt.plot(epochs_range, val_acc, label='Validation Accuracy')\n",
    "plt.legend(loc='lower right')\n",
    "plt.title('Learning Curve, simple CNN with non-augmented data')\n",
    "plt.xlabel('Epoch')\n",
    "plt.ylabel('Accuracy')\n",
    "# plt.show()\n",
    "plt.savefig(os.path.join(GDRIVE, f'{MODEL_NAME}_learning_curve.png'))\n",
    "plt.close()\n",
    "\n",
    "with open(os.path.join(GDRIVE, f'{MODEL_NAME}_history.pickle'), 'wb') as f:\n",
    "    pickle.dump(history.history, f)"
   ]
  },
  {
   "cell_type": "code",
   "execution_count": 0,
   "metadata": {
    "colab": {},
    "colab_type": "code",
    "id": "l40umB-6ABNq"
   },
   "outputs": [],
   "source": [
    "test_predictions = np.argmax(model.predict(test_generator, batch_size=BATCH_SIZE, steps=ceil(total_test / BATCH_SIZE)), axis=-1)"
   ]
  },
  {
   "cell_type": "code",
   "execution_count": 0,
   "metadata": {
    "colab": {},
    "colab_type": "code",
    "id": "y5gGHpPv51Fa"
   },
   "outputs": [],
   "source": [
    "test_cm = np.array(confusion_matrix(test_generator.labels, test_predictions))\n",
    "df_cm = pd.DataFrame(test_cm, WASTE_TYPES, WASTE_TYPES)\n",
    "\n",
    "plt.figure(figsize=(10, 8))\n",
    "sns.heatmap(df_cm, annot=True, fmt=\"d\", cmap=\"YlGnBu\")\n",
    "plt.savefig(os.path.join(GDRIVE, f'{MODEL_NAME}_confusion_matrix.png'))\n",
    "plt.close()"
   ]
  },
  {
   "cell_type": "code",
   "execution_count": 159,
   "metadata": {
    "colab": {
     "base_uri": "https://localhost:8080/",
     "height": 34
    },
    "colab_type": "code",
    "id": "jvm5KNd-6J8A",
    "outputId": "8d3e4349-2aa4-40ac-dcdd-4ac1947b1c9c"
   },
   "outputs": [
    {
     "name": "stdout",
     "output_type": "stream",
     "text": [
      "Test accruracy: 58.27%\n"
     ]
    }
   ],
   "source": [
    "accuracy = np.trace(test_cm) / np.sum(test_cm)\n",
    "print(f'Test accruracy: {accuracy * 100:.2f}%')"
   ]
  }
 ],
 "metadata": {
  "accelerator": "GPU",
  "colab": {
   "collapsed_sections": [],
   "name": "DL project.ipynb",
   "provenance": []
  },
  "kernelspec": {
   "display_name": "Python 3",
   "language": "python",
   "name": "python3"
  },
  "language_info": {
   "codemirror_mode": {
    "name": "ipython",
    "version": 3
   },
   "file_extension": ".py",
   "mimetype": "text/x-python",
   "name": "python",
   "nbconvert_exporter": "python",
   "pygments_lexer": "ipython3",
   "version": "3.7.6"
  }
 },
 "nbformat": 4,
 "nbformat_minor": 1
}
