{
 "cells": [
  {
   "cell_type": "code",
   "execution_count": 1,
   "metadata": {
    "colab": {
     "base_uri": "https://localhost:8080/",
     "height": 122
    },
    "colab_type": "code",
    "id": "_NoBxV_aZppK",
    "outputId": "797cc5c5-78f2-4615-90ad-f491fea5cf6e"
   },
   "outputs": [
    {
     "name": "stdout",
     "output_type": "stream",
     "text": [
      "Mounted at /content/gdrive\n"
     ]
    }
   ],
   "source": [
    "# If not running on Google Colab/Drive, skip this\n",
    "# Run this block first and follow the instructions to authorize mounting\n",
    "from google.colab import drive\n",
    "drive.mount('/content/gdrive')"
   ]
  },
  {
   "cell_type": "code",
   "execution_count": 6,
   "metadata": {
    "colab": {
     "base_uri": "https://localhost:8080/",
     "height": 71
    },
    "colab_type": "code",
    "id": "fILGY3AOZu2w",
    "outputId": "e557cf53-2fe3-4e64-c25c-ed2a8845c8bf"
   },
   "outputs": [
    {
     "name": "stderr",
     "output_type": "stream",
     "text": [
      "/usr/local/lib/python3.6/dist-packages/statsmodels/tools/_testing.py:19: FutureWarning: pandas.util.testing is deprecated. Use the functions in the public API at pandas.testing instead.\n",
      "  import pandas.util.testing as tm\n"
     ]
    }
   ],
   "source": [
    "from tensorflow.keras.layers import Conv2D, MaxPooling2D, Flatten, Dense, Dropout  \n",
    "from tensorflow.keras.models import Sequential\n",
    "from tensorflow.keras.preprocessing.image import ImageDataGenerator\n",
    "from tensorflow.keras.callbacks import ModelCheckpoint\n",
    "from tensorflow.math import confusion_matrix\n",
    "from math import ceil\n",
    "import numpy as np\n",
    "import pandas as pd\n",
    "import seaborn as sns\n",
    "import os\n",
    "import random\n",
    "import PIL\n",
    "import matplotlib.pyplot as plt\n",
    "import pickle"
   ]
  },
  {
   "cell_type": "code",
   "execution_count": 0,
   "metadata": {
    "colab": {},
    "colab_type": "code",
    "id": "kQe2O14rZ5jY"
   },
   "outputs": [],
   "source": [
    "# If not running on Google Colab/Drive, modify this to root, \".\"\n",
    "GDRIVE = os.path.join('/', 'content', 'gdrive', 'My Drive')"
   ]
  },
  {
   "cell_type": "code",
   "execution_count": 0,
   "metadata": {
    "colab": {},
    "colab_type": "code",
    "id": "_tJy-A7CaCCJ"
   },
   "outputs": [],
   "source": [
    "RANDOM_SEED = 0\n",
    "\n",
    "OUTPUT_DATA_DIR = os.path.join(GDRIVE, 'data') # we will store train/ valid/ test/ directories here\n",
    "TRAIN_DATA_DIR = os.path.join(OUTPUT_DATA_DIR, 'train')\n",
    "VAL_DATA_DIR = os.path.join(OUTPUT_DATA_DIR, 'valid')\n",
    "TEST_DATA_DIR = os.path.join(OUTPUT_DATA_DIR, 'test')\n",
    "\n",
    "WASTE_TYPES = ['cardboard', 'glass', 'metal', 'paper', 'plastic', 'trash']\n",
    "\n",
    "IMG_HEIGHT = IMG_WIDTH = 256\n",
    "EPOCHS = 80\n",
    "BATCH_SIZE = 32\n",
    "\n",
    "random.seed(RANDOM_SEED)"
   ]
  },
  {
   "cell_type": "code",
   "execution_count": 0,
   "metadata": {
    "colab": {},
    "colab_type": "code",
    "id": "z2uTYduwh9Tt"
   },
   "outputs": [],
   "source": [
    "# So that we can visualize some of the augmented images\n",
    "TRAIN_AUG_DATA_DIR = os.path.join(OUTPUT_DATA_DIR, 'train_aug')     \n",
    "\n",
    "if not os.path.exists(TRAIN_AUG_DATA_DIR):\n",
    "    os.makedirs(TRAIN_AUG_DATA_DIR)"
   ]
  },
  {
   "cell_type": "code",
   "execution_count": 0,
   "metadata": {
    "colab": {},
    "colab_type": "code",
    "id": "inJIttUZda8B"
   },
   "outputs": [],
   "source": [
    "MODEL_NAME = 'small_cnn_augmented'\n",
    "\n",
    "def create_model():\n",
    "    model = Sequential([\n",
    "        Conv2D(32, (3, 3), activation='relu', input_shape=(IMG_HEIGHT, IMG_WIDTH , 3)),\n",
    "        MaxPooling2D(pool_size=(2, 2)),\n",
    "        Dropout(0.2),\n",
    "        Conv2D(32, (3, 3), activation='relu'),\n",
    "        MaxPooling2D(pool_size=(2, 2)),\n",
    "        Conv2D(64, (3, 3), activation='relu'),\n",
    "        MaxPooling2D(pool_size=(2, 2)),\n",
    "        Dropout(0.2),\n",
    "        Flatten(),\n",
    "        Dense(64, activation='relu'),\n",
    "        Dropout(0.4),\n",
    "        Dense(len(WASTE_TYPES), activation='softmax')\n",
    "    ])\n",
    "    \n",
    "    model.compile(loss='categorical_crossentropy', optimizer='adam', metrics=['accuracy'])\n",
    "    \n",
    "    return model"
   ]
  },
  {
   "cell_type": "code",
   "execution_count": 24,
   "metadata": {
    "colab": {
     "base_uri": "https://localhost:8080/",
     "height": 561
    },
    "colab_type": "code",
    "id": "VfmjmCXqdup9",
    "outputId": "f887daa4-ec6a-4688-f9d7-eddcb87fe429"
   },
   "outputs": [
    {
     "name": "stdout",
     "output_type": "stream",
     "text": [
      "Model: \"sequential_2\"\n",
      "_________________________________________________________________\n",
      "Layer (type)                 Output Shape              Param #   \n",
      "=================================================================\n",
      "conv2d_6 (Conv2D)            (None, 254, 254, 32)      896       \n",
      "_________________________________________________________________\n",
      "max_pooling2d_6 (MaxPooling2 (None, 127, 127, 32)      0         \n",
      "_________________________________________________________________\n",
      "dropout_6 (Dropout)          (None, 127, 127, 32)      0         \n",
      "_________________________________________________________________\n",
      "conv2d_7 (Conv2D)            (None, 125, 125, 32)      9248      \n",
      "_________________________________________________________________\n",
      "max_pooling2d_7 (MaxPooling2 (None, 62, 62, 32)        0         \n",
      "_________________________________________________________________\n",
      "conv2d_8 (Conv2D)            (None, 60, 60, 64)        18496     \n",
      "_________________________________________________________________\n",
      "max_pooling2d_8 (MaxPooling2 (None, 30, 30, 64)        0         \n",
      "_________________________________________________________________\n",
      "dropout_7 (Dropout)          (None, 30, 30, 64)        0         \n",
      "_________________________________________________________________\n",
      "flatten_2 (Flatten)          (None, 57600)             0         \n",
      "_________________________________________________________________\n",
      "dense_4 (Dense)              (None, 64)                3686464   \n",
      "_________________________________________________________________\n",
      "dropout_8 (Dropout)          (None, 64)                0         \n",
      "_________________________________________________________________\n",
      "dense_5 (Dense)              (None, 6)                 390       \n",
      "=================================================================\n",
      "Total params: 3,715,494\n",
      "Trainable params: 3,715,494\n",
      "Non-trainable params: 0\n",
      "_________________________________________________________________\n"
     ]
    }
   ],
   "source": [
    "model = create_model()\n",
    "model.summary()"
   ]
  },
  {
   "cell_type": "code",
   "execution_count": 25,
   "metadata": {
    "colab": {
     "base_uri": "https://localhost:8080/",
     "height": 68
    },
    "colab_type": "code",
    "id": "LKLUl8JEapDg",
    "outputId": "6323a585-8311-4af9-d484-e137579cb68a"
   },
   "outputs": [
    {
     "name": "stdout",
     "output_type": "stream",
     "text": [
      "Found 1514 images belonging to 6 classes.\n",
      "Found 505 images belonging to 6 classes.\n",
      "Found 508 images belonging to 6 classes.\n"
     ]
    }
   ],
   "source": [
    "train_datagen = ImageDataGenerator(rescale=1./255,\n",
    "                                   rotation_range=90,\n",
    "                                   width_shift_range=0.2,\n",
    "                                   height_shift_range=0.2,\n",
    "                                   shear_range=0.2,\n",
    "                                   zoom_range = 0.2,\n",
    "                                   horizontal_flip=True,\n",
    "                                   vertical_flip=True)\n",
    "val_datagen = ImageDataGenerator(rescale=1./255)\n",
    "test_datagen = ImageDataGenerator(rescale=1./255)\n",
    "\n",
    "# using default params: target_size=(256, 256)\n",
    "train_generator = train_datagen.flow_from_directory(TRAIN_DATA_DIR, batch_size=BATCH_SIZE, save_to_dir=TRAIN_AUG_DATA_DIR)\n",
    "val_generator = val_datagen.flow_from_directory(VAL_DATA_DIR, batch_size=BATCH_SIZE)\n",
    "# don't shuffle test set, it will be easier to predict then\n",
    "test_generator = test_datagen.flow_from_directory(TEST_DATA_DIR, batch_size=BATCH_SIZE, shuffle=False)\n",
    "\n",
    "# This function will plot images in the form of a grid with 1 row and 5 columns where images are placed in each column.\n",
    "def plotImages(images_arr):\n",
    "    fig, axes = plt.subplots(1, 5, figsize=(20, 20))\n",
    "    axes = axes.flatten()\n",
    "    for img, ax in zip( images_arr, axes):\n",
    "        ax.imshow(img)\n",
    "        ax.axis('off')\n",
    "    plt.tight_layout()\n",
    "    plt.show()\n",
    "\n",
    "#sample_training_images, _ = next(train_generator)\n",
    "#plotImages(sample_training_images[:5])"
   ]
  },
  {
   "cell_type": "code",
   "execution_count": 26,
   "metadata": {
    "colab": {
     "base_uri": "https://localhost:8080/",
     "height": 34
    },
    "colab_type": "code",
    "id": "6RW-BGtkd9CM",
    "outputId": "e8d4c589-7ae8-4a70-bc40-cb8f55f8ebc8"
   },
   "outputs": [
    {
     "name": "stdout",
     "output_type": "stream",
     "text": [
      "1514 505 508\n"
     ]
    }
   ],
   "source": [
    "# Get these values from the above cell, or from prepare_train_test_data.ipynb\n",
    "total_train = 1514\n",
    "total_val = 505\n",
    "total_test = 508\n",
    "print(total_train, total_val, total_test)"
   ]
  },
  {
   "cell_type": "code",
   "execution_count": 27,
   "metadata": {
    "colab": {
     "base_uri": "https://localhost:8080/",
     "height": 1000
    },
    "colab_type": "code",
    "id": "g4xeHSZzeCHr",
    "outputId": "bfcd5278-8eb9-4b84-be0e-f0af4c91dc90"
   },
   "outputs": [
    {
     "name": "stdout",
     "output_type": "stream",
     "text": [
      "Epoch 1/80\n",
      "48/48 [==============================] - ETA: 0s - loss: 2.0502 - accuracy: 0.1982 \n",
      "Epoch 00001: val_loss improved from inf to 1.73930, saving model to /content/gdrive/My Drive/small_cnn_augmented.h5\n",
      "48/48 [==============================] - 694s 14s/step - loss: 2.0502 - accuracy: 0.1982 - val_loss: 1.7393 - val_accuracy: 0.2356\n",
      "Epoch 2/80\n",
      "48/48 [==============================] - ETA: 0s - loss: 1.7439 - accuracy: 0.2285\n",
      "Epoch 00002: val_loss did not improve from 1.73930\n",
      "48/48 [==============================] - 71s 1s/step - loss: 1.7439 - accuracy: 0.2285 - val_loss: 1.7700 - val_accuracy: 0.2099\n",
      "Epoch 3/80\n",
      "48/48 [==============================] - ETA: 0s - loss: 1.7310 - accuracy: 0.2120\n",
      "Epoch 00003: val_loss improved from 1.73930 to 1.66976, saving model to /content/gdrive/My Drive/small_cnn_augmented.h5\n",
      "48/48 [==============================] - 71s 1s/step - loss: 1.7310 - accuracy: 0.2120 - val_loss: 1.6698 - val_accuracy: 0.2495\n",
      "Epoch 4/80\n",
      "48/48 [==============================] - ETA: 0s - loss: 1.7073 - accuracy: 0.2530\n",
      "Epoch 00004: val_loss improved from 1.66976 to 1.64450, saving model to /content/gdrive/My Drive/small_cnn_augmented.h5\n",
      "48/48 [==============================] - 71s 1s/step - loss: 1.7073 - accuracy: 0.2530 - val_loss: 1.6445 - val_accuracy: 0.2119\n",
      "Epoch 5/80\n",
      "48/48 [==============================] - ETA: 0s - loss: 1.6737 - accuracy: 0.2662\n",
      "Epoch 00005: val_loss did not improve from 1.64450\n",
      "48/48 [==============================] - 72s 1s/step - loss: 1.6737 - accuracy: 0.2662 - val_loss: 1.6500 - val_accuracy: 0.2851\n",
      "Epoch 6/80\n",
      "48/48 [==============================] - ETA: 0s - loss: 1.6276 - accuracy: 0.2886\n",
      "Epoch 00006: val_loss improved from 1.64450 to 1.58972, saving model to /content/gdrive/My Drive/small_cnn_augmented.h5\n",
      "48/48 [==============================] - 72s 2s/step - loss: 1.6276 - accuracy: 0.2886 - val_loss: 1.5897 - val_accuracy: 0.3545\n",
      "Epoch 7/80\n",
      "48/48 [==============================] - ETA: 0s - loss: 1.6334 - accuracy: 0.2754\n",
      "Epoch 00007: val_loss improved from 1.58972 to 1.58395, saving model to /content/gdrive/My Drive/small_cnn_augmented.h5\n",
      "48/48 [==============================] - 72s 1s/step - loss: 1.6334 - accuracy: 0.2754 - val_loss: 1.5839 - val_accuracy: 0.3980\n",
      "Epoch 8/80\n",
      "48/48 [==============================] - ETA: 0s - loss: 1.5972 - accuracy: 0.3190\n",
      "Epoch 00008: val_loss improved from 1.58395 to 1.56616, saving model to /content/gdrive/My Drive/small_cnn_augmented.h5\n",
      "48/48 [==============================] - 73s 2s/step - loss: 1.5972 - accuracy: 0.3190 - val_loss: 1.5662 - val_accuracy: 0.3604\n",
      "Epoch 9/80\n",
      "48/48 [==============================] - ETA: 0s - loss: 1.6020 - accuracy: 0.3210\n",
      "Epoch 00009: val_loss improved from 1.56616 to 1.55179, saving model to /content/gdrive/My Drive/small_cnn_augmented.h5\n",
      "48/48 [==============================] - 73s 2s/step - loss: 1.6020 - accuracy: 0.3210 - val_loss: 1.5518 - val_accuracy: 0.3545\n",
      "Epoch 10/80\n",
      "48/48 [==============================] - ETA: 0s - loss: 1.5912 - accuracy: 0.3223\n",
      "Epoch 00010: val_loss improved from 1.55179 to 1.53462, saving model to /content/gdrive/My Drive/small_cnn_augmented.h5\n",
      "48/48 [==============================] - 73s 2s/step - loss: 1.5912 - accuracy: 0.3223 - val_loss: 1.5346 - val_accuracy: 0.3347\n",
      "Epoch 11/80\n",
      "48/48 [==============================] - ETA: 0s - loss: 1.5851 - accuracy: 0.3468\n",
      "Epoch 00011: val_loss improved from 1.53462 to 1.48109, saving model to /content/gdrive/My Drive/small_cnn_augmented.h5\n",
      "48/48 [==============================] - 74s 2s/step - loss: 1.5851 - accuracy: 0.3468 - val_loss: 1.4811 - val_accuracy: 0.4455\n",
      "Epoch 12/80\n",
      "48/48 [==============================] - ETA: 0s - loss: 1.5491 - accuracy: 0.3501\n",
      "Epoch 00012: val_loss improved from 1.48109 to 1.43731, saving model to /content/gdrive/My Drive/small_cnn_augmented.h5\n",
      "48/48 [==============================] - 74s 2s/step - loss: 1.5491 - accuracy: 0.3501 - val_loss: 1.4373 - val_accuracy: 0.4416\n",
      "Epoch 13/80\n",
      "48/48 [==============================] - ETA: 0s - loss: 1.5574 - accuracy: 0.3203\n",
      "Epoch 00013: val_loss did not improve from 1.43731\n",
      "48/48 [==============================] - 74s 2s/step - loss: 1.5574 - accuracy: 0.3203 - val_loss: 1.4873 - val_accuracy: 0.3762\n",
      "Epoch 14/80\n",
      "48/48 [==============================] - ETA: 0s - loss: 1.5343 - accuracy: 0.3514\n",
      "Epoch 00014: val_loss improved from 1.43731 to 1.42829, saving model to /content/gdrive/My Drive/small_cnn_augmented.h5\n",
      "48/48 [==============================] - 75s 2s/step - loss: 1.5343 - accuracy: 0.3514 - val_loss: 1.4283 - val_accuracy: 0.4099\n",
      "Epoch 15/80\n",
      "48/48 [==============================] - ETA: 0s - loss: 1.5225 - accuracy: 0.3408\n",
      "Epoch 00015: val_loss did not improve from 1.42829\n",
      "48/48 [==============================] - 74s 2s/step - loss: 1.5225 - accuracy: 0.3408 - val_loss: 1.4464 - val_accuracy: 0.4059\n",
      "Epoch 16/80\n",
      "48/48 [==============================] - ETA: 0s - loss: 1.4924 - accuracy: 0.3639\n",
      "Epoch 00016: val_loss did not improve from 1.42829\n",
      "48/48 [==============================] - 74s 2s/step - loss: 1.4924 - accuracy: 0.3639 - val_loss: 1.4384 - val_accuracy: 0.4000\n",
      "Epoch 17/80\n",
      "48/48 [==============================] - ETA: 0s - loss: 1.4623 - accuracy: 0.3824\n",
      "Epoch 00017: val_loss improved from 1.42829 to 1.33535, saving model to /content/gdrive/My Drive/small_cnn_augmented.h5\n",
      "48/48 [==============================] - 76s 2s/step - loss: 1.4623 - accuracy: 0.3824 - val_loss: 1.3353 - val_accuracy: 0.4634\n",
      "Epoch 18/80\n",
      "48/48 [==============================] - ETA: 0s - loss: 1.4660 - accuracy: 0.3738\n",
      "Epoch 00018: val_loss did not improve from 1.33535\n",
      "48/48 [==============================] - 76s 2s/step - loss: 1.4660 - accuracy: 0.3738 - val_loss: 1.3581 - val_accuracy: 0.4495\n",
      "Epoch 19/80\n",
      "48/48 [==============================] - ETA: 0s - loss: 1.4528 - accuracy: 0.3857\n",
      "Epoch 00019: val_loss improved from 1.33535 to 1.32677, saving model to /content/gdrive/My Drive/small_cnn_augmented.h5\n",
      "48/48 [==============================] - 75s 2s/step - loss: 1.4528 - accuracy: 0.3857 - val_loss: 1.3268 - val_accuracy: 0.4911\n",
      "Epoch 20/80\n",
      "48/48 [==============================] - ETA: 0s - loss: 1.4413 - accuracy: 0.3890\n",
      "Epoch 00020: val_loss did not improve from 1.32677\n",
      "48/48 [==============================] - 77s 2s/step - loss: 1.4413 - accuracy: 0.3890 - val_loss: 1.3439 - val_accuracy: 0.4653\n",
      "Epoch 21/80\n",
      "48/48 [==============================] - ETA: 0s - loss: 1.4262 - accuracy: 0.3996\n",
      "Epoch 00021: val_loss improved from 1.32677 to 1.26982, saving model to /content/gdrive/My Drive/small_cnn_augmented.h5\n",
      "48/48 [==============================] - 77s 2s/step - loss: 1.4262 - accuracy: 0.3996 - val_loss: 1.2698 - val_accuracy: 0.4851\n",
      "Epoch 22/80\n",
      "48/48 [==============================] - ETA: 0s - loss: 1.4201 - accuracy: 0.4155\n",
      "Epoch 00022: val_loss did not improve from 1.26982\n",
      "48/48 [==============================] - 77s 2s/step - loss: 1.4201 - accuracy: 0.4155 - val_loss: 1.3427 - val_accuracy: 0.4238\n",
      "Epoch 23/80\n",
      "48/48 [==============================] - ETA: 0s - loss: 1.3766 - accuracy: 0.4518\n",
      "Epoch 00023: val_loss improved from 1.26982 to 1.24325, saving model to /content/gdrive/My Drive/small_cnn_augmented.h5\n",
      "48/48 [==============================] - 77s 2s/step - loss: 1.3766 - accuracy: 0.4518 - val_loss: 1.2433 - val_accuracy: 0.5485\n",
      "Epoch 24/80\n",
      "48/48 [==============================] - ETA: 0s - loss: 1.3947 - accuracy: 0.4458\n",
      "Epoch 00024: val_loss did not improve from 1.24325\n",
      "48/48 [==============================] - 78s 2s/step - loss: 1.3947 - accuracy: 0.4458 - val_loss: 1.2606 - val_accuracy: 0.5188\n",
      "Epoch 25/80\n",
      "48/48 [==============================] - ETA: 0s - loss: 1.3626 - accuracy: 0.4452\n",
      "Epoch 00025: val_loss did not improve from 1.24325\n",
      "48/48 [==============================] - 78s 2s/step - loss: 1.3626 - accuracy: 0.4452 - val_loss: 1.2641 - val_accuracy: 0.4693\n",
      "Epoch 26/80\n",
      "48/48 [==============================] - ETA: 0s - loss: 1.3875 - accuracy: 0.4571\n",
      "Epoch 00026: val_loss did not improve from 1.24325\n",
      "48/48 [==============================] - 80s 2s/step - loss: 1.3875 - accuracy: 0.4571 - val_loss: 1.2482 - val_accuracy: 0.5188\n",
      "Epoch 27/80\n",
      "48/48 [==============================] - ETA: 0s - loss: 1.3525 - accuracy: 0.4458\n",
      "Epoch 00027: val_loss did not improve from 1.24325\n",
      "48/48 [==============================] - 79s 2s/step - loss: 1.3525 - accuracy: 0.4458 - val_loss: 1.2528 - val_accuracy: 0.4614\n",
      "Epoch 28/80\n",
      "48/48 [==============================] - ETA: 0s - loss: 1.3329 - accuracy: 0.4604\n",
      "Epoch 00028: val_loss improved from 1.24325 to 1.22251, saving model to /content/gdrive/My Drive/small_cnn_augmented.h5\n",
      "48/48 [==============================] - 79s 2s/step - loss: 1.3329 - accuracy: 0.4604 - val_loss: 1.2225 - val_accuracy: 0.5446\n",
      "Epoch 29/80\n",
      "48/48 [==============================] - ETA: 0s - loss: 1.3119 - accuracy: 0.4736\n",
      "Epoch 00029: val_loss did not improve from 1.22251\n",
      "48/48 [==============================] - 79s 2s/step - loss: 1.3119 - accuracy: 0.4736 - val_loss: 1.2724 - val_accuracy: 0.4970\n",
      "Epoch 30/80\n",
      "48/48 [==============================] - ETA: 0s - loss: 1.3475 - accuracy: 0.4597\n",
      "Epoch 00030: val_loss did not improve from 1.22251\n",
      "48/48 [==============================] - 80s 2s/step - loss: 1.3475 - accuracy: 0.4597 - val_loss: 1.3100 - val_accuracy: 0.4515\n",
      "Epoch 31/80\n",
      "48/48 [==============================] - ETA: 0s - loss: 1.3533 - accuracy: 0.4577\n",
      "Epoch 00031: val_loss did not improve from 1.22251\n",
      "48/48 [==============================] - 79s 2s/step - loss: 1.3533 - accuracy: 0.4577 - val_loss: 1.2975 - val_accuracy: 0.5208\n",
      "Epoch 32/80\n",
      "48/48 [==============================] - ETA: 0s - loss: 1.3504 - accuracy: 0.4564\n",
      "Epoch 00032: val_loss did not improve from 1.22251\n",
      "48/48 [==============================] - 80s 2s/step - loss: 1.3504 - accuracy: 0.4564 - val_loss: 1.2459 - val_accuracy: 0.5208\n",
      "Epoch 33/80\n",
      "48/48 [==============================] - ETA: 0s - loss: 1.3322 - accuracy: 0.4630\n",
      "Epoch 00033: val_loss improved from 1.22251 to 1.17875, saving model to /content/gdrive/My Drive/small_cnn_augmented.h5\n",
      "48/48 [==============================] - 80s 2s/step - loss: 1.3322 - accuracy: 0.4630 - val_loss: 1.1787 - val_accuracy: 0.4931\n",
      "Epoch 34/80\n",
      "48/48 [==============================] - ETA: 0s - loss: 1.2802 - accuracy: 0.4775\n",
      "Epoch 00034: val_loss did not improve from 1.17875\n",
      "48/48 [==============================] - 81s 2s/step - loss: 1.2802 - accuracy: 0.4775 - val_loss: 1.1964 - val_accuracy: 0.5347\n",
      "Epoch 35/80\n",
      "48/48 [==============================] - ETA: 0s - loss: 1.3014 - accuracy: 0.4670\n",
      "Epoch 00035: val_loss did not improve from 1.17875\n",
      "48/48 [==============================] - 80s 2s/step - loss: 1.3014 - accuracy: 0.4670 - val_loss: 1.2640 - val_accuracy: 0.4891\n",
      "Epoch 36/80\n",
      "48/48 [==============================] - ETA: 0s - loss: 1.2800 - accuracy: 0.4769\n",
      "Epoch 00036: val_loss improved from 1.17875 to 1.17807, saving model to /content/gdrive/My Drive/small_cnn_augmented.h5\n",
      "48/48 [==============================] - 81s 2s/step - loss: 1.2800 - accuracy: 0.4769 - val_loss: 1.1781 - val_accuracy: 0.5525\n",
      "Epoch 37/80\n",
      "48/48 [==============================] - ETA: 0s - loss: 1.2424 - accuracy: 0.5000\n",
      "Epoch 00037: val_loss improved from 1.17807 to 1.11429, saving model to /content/gdrive/My Drive/small_cnn_augmented.h5\n",
      "48/48 [==============================] - 81s 2s/step - loss: 1.2424 - accuracy: 0.5000 - val_loss: 1.1143 - val_accuracy: 0.5624\n",
      "Epoch 38/80\n",
      "48/48 [==============================] - ETA: 0s - loss: 1.2539 - accuracy: 0.4802\n",
      "Epoch 00038: val_loss did not improve from 1.11429\n",
      "48/48 [==============================] - 82s 2s/step - loss: 1.2539 - accuracy: 0.4802 - val_loss: 1.1934 - val_accuracy: 0.5426\n",
      "Epoch 39/80\n",
      "48/48 [==============================] - ETA: 0s - loss: 1.2869 - accuracy: 0.5020\n",
      "Epoch 00039: val_loss did not improve from 1.11429\n",
      "48/48 [==============================] - 82s 2s/step - loss: 1.2869 - accuracy: 0.5020 - val_loss: 1.2303 - val_accuracy: 0.4673\n",
      "Epoch 40/80\n",
      "48/48 [==============================] - ETA: 0s - loss: 1.2441 - accuracy: 0.5165\n",
      "Epoch 00040: val_loss did not improve from 1.11429\n",
      "48/48 [==============================] - 83s 2s/step - loss: 1.2441 - accuracy: 0.5165 - val_loss: 1.3257 - val_accuracy: 0.4436\n",
      "Epoch 41/80\n",
      "48/48 [==============================] - ETA: 0s - loss: 1.2633 - accuracy: 0.4987\n",
      "Epoch 00041: val_loss improved from 1.11429 to 1.07727, saving model to /content/gdrive/My Drive/small_cnn_augmented.h5\n",
      "48/48 [==============================] - 84s 2s/step - loss: 1.2633 - accuracy: 0.4987 - val_loss: 1.0773 - val_accuracy: 0.5723\n",
      "Epoch 42/80\n",
      "48/48 [==============================] - ETA: 0s - loss: 1.2459 - accuracy: 0.5198\n",
      "Epoch 00042: val_loss did not improve from 1.07727\n",
      "48/48 [==============================] - 83s 2s/step - loss: 1.2459 - accuracy: 0.5198 - val_loss: 1.1776 - val_accuracy: 0.5366\n",
      "Epoch 43/80\n",
      "48/48 [==============================] - ETA: 0s - loss: 1.1943 - accuracy: 0.5192\n",
      "Epoch 00043: val_loss did not improve from 1.07727\n",
      "48/48 [==============================] - 84s 2s/step - loss: 1.1943 - accuracy: 0.5192 - val_loss: 1.1396 - val_accuracy: 0.5307\n",
      "Epoch 44/80\n",
      "48/48 [==============================] - ETA: 0s - loss: 1.2373 - accuracy: 0.5040\n",
      "Epoch 00044: val_loss did not improve from 1.07727\n",
      "48/48 [==============================] - 85s 2s/step - loss: 1.2373 - accuracy: 0.5040 - val_loss: 1.2140 - val_accuracy: 0.5129\n",
      "Epoch 45/80\n",
      "48/48 [==============================] - ETA: 0s - loss: 1.2356 - accuracy: 0.5159\n",
      "Epoch 00045: val_loss did not improve from 1.07727\n",
      "48/48 [==============================] - 85s 2s/step - loss: 1.2356 - accuracy: 0.5159 - val_loss: 1.1003 - val_accuracy: 0.5980\n",
      "Epoch 46/80\n",
      "48/48 [==============================] - ETA: 0s - loss: 1.2025 - accuracy: 0.5218\n",
      "Epoch 00046: val_loss did not improve from 1.07727\n",
      "48/48 [==============================] - 85s 2s/step - loss: 1.2025 - accuracy: 0.5218 - val_loss: 1.1248 - val_accuracy: 0.5604\n",
      "Epoch 47/80\n",
      "48/48 [==============================] - ETA: 0s - loss: 1.2225 - accuracy: 0.5139\n",
      "Epoch 00047: val_loss did not improve from 1.07727\n",
      "48/48 [==============================] - 85s 2s/step - loss: 1.2225 - accuracy: 0.5139 - val_loss: 1.2186 - val_accuracy: 0.5347\n",
      "Epoch 48/80\n",
      "48/48 [==============================] - ETA: 0s - loss: 1.2245 - accuracy: 0.5231\n",
      "Epoch 00048: val_loss did not improve from 1.07727\n",
      "48/48 [==============================] - 86s 2s/step - loss: 1.2245 - accuracy: 0.5231 - val_loss: 1.1122 - val_accuracy: 0.6059\n",
      "Epoch 49/80\n",
      "48/48 [==============================] - ETA: 0s - loss: 1.2181 - accuracy: 0.5079\n",
      "Epoch 00049: val_loss did not improve from 1.07727\n",
      "48/48 [==============================] - 87s 2s/step - loss: 1.2181 - accuracy: 0.5079 - val_loss: 1.1490 - val_accuracy: 0.5762\n",
      "Epoch 50/80\n",
      "48/48 [==============================] - ETA: 0s - loss: 1.2208 - accuracy: 0.5277\n",
      "Epoch 00050: val_loss did not improve from 1.07727\n",
      "48/48 [==============================] - 86s 2s/step - loss: 1.2208 - accuracy: 0.5277 - val_loss: 1.1102 - val_accuracy: 0.5842\n",
      "Epoch 51/80\n",
      "48/48 [==============================] - ETA: 0s - loss: 1.1624 - accuracy: 0.5211\n",
      "Epoch 00051: val_loss did not improve from 1.07727\n",
      "48/48 [==============================] - 87s 2s/step - loss: 1.1624 - accuracy: 0.5211 - val_loss: 1.0831 - val_accuracy: 0.6059\n",
      "Epoch 52/80\n",
      "48/48 [==============================] - ETA: 0s - loss: 1.2030 - accuracy: 0.5304\n",
      "Epoch 00052: val_loss did not improve from 1.07727\n",
      "48/48 [==============================] - 87s 2s/step - loss: 1.2030 - accuracy: 0.5304 - val_loss: 1.0860 - val_accuracy: 0.6099\n",
      "Epoch 53/80\n",
      "48/48 [==============================] - ETA: 0s - loss: 1.1720 - accuracy: 0.5502\n",
      "Epoch 00053: val_loss did not improve from 1.07727\n",
      "48/48 [==============================] - 87s 2s/step - loss: 1.1720 - accuracy: 0.5502 - val_loss: 1.1174 - val_accuracy: 0.5881\n",
      "Epoch 54/80\n",
      "48/48 [==============================] - ETA: 0s - loss: 1.1771 - accuracy: 0.5403\n",
      "Epoch 00054: val_loss did not improve from 1.07727\n",
      "48/48 [==============================] - 88s 2s/step - loss: 1.1771 - accuracy: 0.5403 - val_loss: 1.1027 - val_accuracy: 0.5406\n",
      "Epoch 55/80\n",
      "48/48 [==============================] - ETA: 0s - loss: 1.1704 - accuracy: 0.5390\n",
      "Epoch 00055: val_loss did not improve from 1.07727\n",
      "48/48 [==============================] - 88s 2s/step - loss: 1.1704 - accuracy: 0.5390 - val_loss: 1.1453 - val_accuracy: 0.5762\n",
      "Epoch 56/80\n",
      "48/48 [==============================] - ETA: 0s - loss: 1.1643 - accuracy: 0.5495\n",
      "Epoch 00056: val_loss did not improve from 1.07727\n",
      "48/48 [==============================] - 88s 2s/step - loss: 1.1643 - accuracy: 0.5495 - val_loss: 1.1372 - val_accuracy: 0.5624\n",
      "Epoch 57/80\n",
      "48/48 [==============================] - ETA: 0s - loss: 1.1633 - accuracy: 0.5548\n",
      "Epoch 00057: val_loss did not improve from 1.07727\n",
      "48/48 [==============================] - 88s 2s/step - loss: 1.1633 - accuracy: 0.5548 - val_loss: 1.1126 - val_accuracy: 0.5644\n",
      "Epoch 58/80\n",
      "48/48 [==============================] - ETA: 0s - loss: 1.1758 - accuracy: 0.5284\n",
      "Epoch 00058: val_loss did not improve from 1.07727\n",
      "48/48 [==============================] - 88s 2s/step - loss: 1.1758 - accuracy: 0.5284 - val_loss: 1.2543 - val_accuracy: 0.4713\n",
      "Epoch 59/80\n",
      "48/48 [==============================] - ETA: 0s - loss: 1.2575 - accuracy: 0.4815\n",
      "Epoch 00059: val_loss did not improve from 1.07727\n",
      "48/48 [==============================] - 89s 2s/step - loss: 1.2575 - accuracy: 0.4815 - val_loss: 1.1113 - val_accuracy: 0.5485\n",
      "Epoch 60/80\n",
      "48/48 [==============================] - ETA: 0s - loss: 1.1974 - accuracy: 0.5238\n",
      "Epoch 00060: val_loss did not improve from 1.07727\n",
      "48/48 [==============================] - 90s 2s/step - loss: 1.1974 - accuracy: 0.5238 - val_loss: 1.1923 - val_accuracy: 0.5545\n",
      "Epoch 61/80\n",
      "48/48 [==============================] - ETA: 0s - loss: 1.1397 - accuracy: 0.5542\n",
      "Epoch 00061: val_loss improved from 1.07727 to 1.07227, saving model to /content/gdrive/My Drive/small_cnn_augmented.h5\n",
      "48/48 [==============================] - 90s 2s/step - loss: 1.1397 - accuracy: 0.5542 - val_loss: 1.0723 - val_accuracy: 0.5921\n",
      "Epoch 62/80\n",
      "48/48 [==============================] - ETA: 0s - loss: 1.1340 - accuracy: 0.5601\n",
      "Epoch 00062: val_loss did not improve from 1.07227\n",
      "48/48 [==============================] - 89s 2s/step - loss: 1.1340 - accuracy: 0.5601 - val_loss: 1.0951 - val_accuracy: 0.5842\n",
      "Epoch 63/80\n",
      "48/48 [==============================] - ETA: 0s - loss: 1.1639 - accuracy: 0.5277\n",
      "Epoch 00063: val_loss improved from 1.07227 to 1.06336, saving model to /content/gdrive/My Drive/small_cnn_augmented.h5\n",
      "48/48 [==============================] - 90s 2s/step - loss: 1.1639 - accuracy: 0.5277 - val_loss: 1.0634 - val_accuracy: 0.6020\n",
      "Epoch 64/80\n",
      "48/48 [==============================] - ETA: 0s - loss: 1.1456 - accuracy: 0.5449\n",
      "Epoch 00064: val_loss did not improve from 1.06336\n",
      "48/48 [==============================] - 90s 2s/step - loss: 1.1456 - accuracy: 0.5449 - val_loss: 1.1392 - val_accuracy: 0.5624\n",
      "Epoch 65/80\n",
      "48/48 [==============================] - ETA: 0s - loss: 1.1655 - accuracy: 0.5396\n",
      "Epoch 00065: val_loss improved from 1.06336 to 1.04060, saving model to /content/gdrive/My Drive/small_cnn_augmented.h5\n",
      "48/48 [==============================] - 91s 2s/step - loss: 1.1655 - accuracy: 0.5396 - val_loss: 1.0406 - val_accuracy: 0.6040\n",
      "Epoch 66/80\n",
      "48/48 [==============================] - ETA: 0s - loss: 1.1032 - accuracy: 0.5733\n",
      "Epoch 00066: val_loss did not improve from 1.04060\n",
      "48/48 [==============================] - 91s 2s/step - loss: 1.1032 - accuracy: 0.5733 - val_loss: 1.0553 - val_accuracy: 0.6257\n",
      "Epoch 67/80\n",
      "48/48 [==============================] - ETA: 0s - loss: 1.1458 - accuracy: 0.5542\n",
      "Epoch 00067: val_loss did not improve from 1.04060\n",
      "48/48 [==============================] - 92s 2s/step - loss: 1.1458 - accuracy: 0.5542 - val_loss: 1.0649 - val_accuracy: 0.6059\n",
      "Epoch 68/80\n",
      "48/48 [==============================] - ETA: 0s - loss: 1.1684 - accuracy: 0.5423\n",
      "Epoch 00068: val_loss did not improve from 1.04060\n",
      "48/48 [==============================] - 93s 2s/step - loss: 1.1684 - accuracy: 0.5423 - val_loss: 1.0997 - val_accuracy: 0.5822\n",
      "Epoch 69/80\n",
      "48/48 [==============================] - ETA: 0s - loss: 1.1061 - accuracy: 0.5654\n",
      "Epoch 00069: val_loss did not improve from 1.04060\n",
      "48/48 [==============================] - 93s 2s/step - loss: 1.1061 - accuracy: 0.5654 - val_loss: 1.1456 - val_accuracy: 0.5842\n",
      "Epoch 70/80\n",
      "48/48 [==============================] - ETA: 0s - loss: 1.1180 - accuracy: 0.5489\n",
      "Epoch 00070: val_loss did not improve from 1.04060\n",
      "48/48 [==============================] - 93s 2s/step - loss: 1.1180 - accuracy: 0.5489 - val_loss: 1.0620 - val_accuracy: 0.6040\n",
      "Epoch 71/80\n",
      "48/48 [==============================] - ETA: 0s - loss: 1.1312 - accuracy: 0.5489\n",
      "Epoch 00071: val_loss improved from 1.04060 to 1.03213, saving model to /content/gdrive/My Drive/small_cnn_augmented.h5\n",
      "48/48 [==============================] - 93s 2s/step - loss: 1.1312 - accuracy: 0.5489 - val_loss: 1.0321 - val_accuracy: 0.5822\n",
      "Epoch 72/80\n",
      "48/48 [==============================] - ETA: 0s - loss: 1.1497 - accuracy: 0.5482\n",
      "Epoch 00072: val_loss did not improve from 1.03213\n",
      "48/48 [==============================] - 93s 2s/step - loss: 1.1497 - accuracy: 0.5482 - val_loss: 1.0448 - val_accuracy: 0.5782\n",
      "Epoch 73/80\n",
      "48/48 [==============================] - ETA: 0s - loss: 1.1044 - accuracy: 0.5647\n",
      "Epoch 00073: val_loss did not improve from 1.03213\n",
      "48/48 [==============================] - 95s 2s/step - loss: 1.1044 - accuracy: 0.5647 - val_loss: 1.0663 - val_accuracy: 0.6178\n",
      "Epoch 74/80\n",
      "48/48 [==============================] - ETA: 0s - loss: 1.0906 - accuracy: 0.5727\n",
      "Epoch 00074: val_loss did not improve from 1.03213\n",
      "48/48 [==============================] - 95s 2s/step - loss: 1.0906 - accuracy: 0.5727 - val_loss: 1.0428 - val_accuracy: 0.6059\n",
      "Epoch 75/80\n",
      "48/48 [==============================] - ETA: 0s - loss: 1.0799 - accuracy: 0.5786\n",
      "Epoch 00075: val_loss improved from 1.03213 to 1.02460, saving model to /content/gdrive/My Drive/small_cnn_augmented.h5\n",
      "48/48 [==============================] - 95s 2s/step - loss: 1.0799 - accuracy: 0.5786 - val_loss: 1.0246 - val_accuracy: 0.6139\n",
      "Epoch 76/80\n",
      "48/48 [==============================] - ETA: 0s - loss: 1.1204 - accuracy: 0.5601\n",
      "Epoch 00076: val_loss did not improve from 1.02460\n",
      "48/48 [==============================] - 94s 2s/step - loss: 1.1204 - accuracy: 0.5601 - val_loss: 1.0327 - val_accuracy: 0.6218\n",
      "Epoch 77/80\n",
      "48/48 [==============================] - ETA: 0s - loss: 1.0906 - accuracy: 0.5865\n",
      "Epoch 00077: val_loss did not improve from 1.02460\n",
      "48/48 [==============================] - 95s 2s/step - loss: 1.0906 - accuracy: 0.5865 - val_loss: 1.0450 - val_accuracy: 0.6099\n",
      "Epoch 78/80\n",
      "48/48 [==============================] - ETA: 0s - loss: 1.1042 - accuracy: 0.5601\n",
      "Epoch 00078: val_loss did not improve from 1.02460\n",
      "48/48 [==============================] - 95s 2s/step - loss: 1.1042 - accuracy: 0.5601 - val_loss: 1.0934 - val_accuracy: 0.5683\n",
      "Epoch 79/80\n",
      "48/48 [==============================] - ETA: 0s - loss: 1.0785 - accuracy: 0.5793\n",
      "Epoch 00079: val_loss did not improve from 1.02460\n",
      "48/48 [==============================] - 96s 2s/step - loss: 1.0785 - accuracy: 0.5793 - val_loss: 1.0270 - val_accuracy: 0.6119\n",
      "Epoch 80/80\n",
      "48/48 [==============================] - ETA: 0s - loss: 1.1678 - accuracy: 0.5548\n",
      "Epoch 00080: val_loss did not improve from 1.02460\n",
      "48/48 [==============================] - 96s 2s/step - loss: 1.1678 - accuracy: 0.5548 - val_loss: 1.2745 - val_accuracy: 0.4416\n"
     ]
    }
   ],
   "source": [
    "history = model.fit(\n",
    "    train_generator,\n",
    "    steps_per_epoch=ceil(total_train / BATCH_SIZE),\n",
    "    epochs=EPOCHS,\n",
    "    validation_data=val_generator,\n",
    "    validation_steps=ceil(total_val / BATCH_SIZE),\n",
    "    callbacks=[ModelCheckpoint(os.path.join(GDRIVE, f'{MODEL_NAME}.h5'), save_best_only=True, save_weights_only=True, verbose=1)])"
   ]
  },
  {
   "cell_type": "code",
   "execution_count": 0,
   "metadata": {
    "colab": {},
    "colab_type": "code",
    "id": "W91vLuXKhDFX"
   },
   "outputs": [],
   "source": [
    "acc = history.history['accuracy']\n",
    "val_acc = history.history['val_accuracy']\n",
    "\n",
    "epochs_range = range(EPOCHS)\n",
    "\n",
    "plt.plot(epochs_range, acc, label='Training Accuracy')\n",
    "plt.plot(epochs_range, val_acc, label='Validation Accuracy')\n",
    "plt.legend(loc='lower right')\n",
    "plt.title('Learning Curve, small CNN with augmented data')\n",
    "plt.xlabel('Epoch')\n",
    "plt.ylabel('Accuracy')\n",
    "#plt.show()\n",
    "plt.savefig(os.path.join(GDRIVE, f'{MODEL_NAME}_learning_curve.png'))\n",
    "plt.close()\n",
    "\n",
    "with open(os.path.join(GDRIVE, f'{MODEL_NAME}_history.pickle'), 'wb') as f:\n",
    "     pickle.dump(history.history, f)"
   ]
  },
  {
   "cell_type": "code",
   "execution_count": null,
   "metadata": {},
   "outputs": [],
   "source": [
    "model = create_model() # create a new instance\n",
    "model.load_weights(os.path.join(GDRIVE, f'{MODEL_NAME}.h5'))"
   ]
  },
  {
   "cell_type": "code",
   "execution_count": 30,
   "metadata": {
    "colab": {
     "base_uri": "https://localhost:8080/",
     "height": 34
    },
    "colab_type": "code",
    "id": "YR3cTSDliNin",
    "outputId": "0ae7d50e-bc21-4cc8-afb3-f2c1ccc99baa"
   },
   "outputs": [
    {
     "name": "stdout",
     "output_type": "stream",
     "text": [
      "16/16 [==============================] - 146s 9s/step\n"
     ]
    }
   ],
   "source": [
    "test_predictions = np.argmax(model.predict(test_generator, verbose=1, batch_size=BATCH_SIZE, steps=ceil(total_test / BATCH_SIZE)), axis=-1)"
   ]
  },
  {
   "cell_type": "code",
   "execution_count": 0,
   "metadata": {
    "colab": {},
    "colab_type": "code",
    "id": "Tyz73GRgiPoa"
   },
   "outputs": [],
   "source": [
    "test_cm = np.array(confusion_matrix(test_generator.labels, test_predictions))\n",
    "df_cm = pd.DataFrame(test_cm, WASTE_TYPES, WASTE_TYPES)\n",
    "\n",
    "plt.figure(figsize=(10, 8))\n",
    "sns.heatmap(df_cm, annot=True, fmt=\"d\", cmap=\"YlGnBu\")\n",
    "plt.savefig(os.path.join(GDRIVE, f'{MODEL_NAME}_confusion_matrix.png'))\n",
    "plt.close()"
   ]
  },
  {
   "cell_type": "code",
   "execution_count": 32,
   "metadata": {
    "colab": {
     "base_uri": "https://localhost:8080/",
     "height": 34
    },
    "colab_type": "code",
    "id": "3WRWFXSjiRGj",
    "outputId": "be1be3bf-32d4-436a-92a9-c695468ca17e"
   },
   "outputs": [
    {
     "name": "stdout",
     "output_type": "stream",
     "text": [
      "Test accruracy: 62.60%\n"
     ]
    }
   ],
   "source": [
    "accuracy = np.trace(test_cm) / np.sum(test_cm)\n",
    "print(f'Test accruracy: {accuracy * 100:.2f}%')"
   ]
  }
 ],
 "metadata": {
  "accelerator": "GPU",
  "colab": {
   "name": "augmentation.ipynb",
   "provenance": []
  },
  "kernelspec": {
   "display_name": "Python 3",
   "language": "python",
   "name": "python3"
  },
  "language_info": {
   "codemirror_mode": {
    "name": "ipython",
    "version": 3
   },
   "file_extension": ".py",
   "mimetype": "text/x-python",
   "name": "python",
   "nbconvert_exporter": "python",
   "pygments_lexer": "ipython3",
   "version": "3.7.6"
  }
 },
 "nbformat": 4,
 "nbformat_minor": 1
}
